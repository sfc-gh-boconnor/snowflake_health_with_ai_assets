{
 "metadata": {
  "language_info": {
   "name": "python"
  },
  "lastEditStatus": {
   "notebookId": "bnf5kwhiumutiyfjfpko",
   "authorId": "1859362442518",
   "authorName": "USER",
   "authorEmail": "",
   "sessionId": "b8c69c46-2518-415a-a0e5-48e44dffc67b",
   "lastEditTime": 1746916846056
  }
 },
 "nbformat_minor": 2,
 "nbformat": 4,
 "cells": [
  {
   "cell_type": "markdown",
   "id": "e5ca0fdf-f27b-46d4-93a4-d99c4acd48c1",
   "metadata": {
    "collapsed": false,
    "name": "intro"
   },
   "source": [
    "# AI/ML for Drug Discovery : Snowflake ML Hands On Lab\n",
    "\n",
    "\n",
    "In this notebook, we will go through the basics of using Notebooks Container Runtime for Data Analysis and Machine Learning. We will install OSS packages,explore the CHEMBL dataset, create streamlit visualizations, train a simple prediction model to help predict the activity of compounds against a disease of interest. \n",
    "\n",
    "Features Highlighted:\\\n",
    ":bulb: Snowflake Notebooks \\\n",
    ":bulb: Streamlit in Notebooks\\\n",
    ":bulb: SnowflakeML APIs\\\n",
    ":bulb: Snowflake Pandas API\\\n",
    ":bulb: Feature Store\\\n",
    ":bulb: Model Registry and Serving\n",
    "\n",
    "### Python Packages\n",
    "\n",
    "The Container Runtime for Snowflake Notebooks includes pre-installed common packages including SnowparkML and other OSS packages."
   ]
  },
  {
   "cell_type": "code",
   "execution_count": null,
   "id": "ddc634ba-5b17-4287-a0fe-cf2f755fb125",
   "metadata": {
    "codeCollapsed": false,
    "collapsed": true,
    "language": "python",
    "name": "packages"
   },
   "outputs": [],
   "source": [
    "!pip freeze"
   ]
  },
  {
   "cell_type": "markdown",
   "id": "8778f10a-27f7-4dac-ad88-18e5099ea601",
   "metadata": {
    "collapsed": false,
    "name": "head_pypi_external_access"
   },
   "source": [
    "Notebooks Container Runtime, along with External Access Integrations give us the flexibility to pip install packages from anywhere, including popular package repositories such as pypi. You can install whatever packages you need by running !pip install <package_name> directly in the Notebook.\n",
    "\n",
    "We have configured this notebook to allow pypi urls with an External Access Integration."
   ]
  },
  {
   "cell_type": "code",
   "execution_count": null,
   "id": "4e13594b-7851-45e2-8114-2ed1755be39f",
   "metadata": {
    "codeCollapsed": false,
    "collapsed": true,
    "language": "python",
    "name": "install_packages"
   },
   "outputs": [],
   "source": [
    "!pip install rdkit\n",
    "!pip install biopython\n",
    "!pip install \"snowflake-snowpark-python[modin]\"\n",
    "#you will need to restart the kernal after installing"
   ]
  },
  {
   "cell_type": "code",
   "execution_count": null,
   "id": "ce110000-1111-2222-3333-ffffff000000",
   "metadata": {
    "language": "python",
    "name": "import_packages"
   },
   "outputs": [],
   "source": [
    "import warnings\n",
    "warnings.filterwarnings(\"ignore\")\n",
    "\n",
    "#snowpark packages \n",
    "import snowflake.snowpark.types as T\n",
    "import snowflake.snowpark.functions as F\n",
    "\n",
    "#Scikit learn \n",
    "import sklearn as sl\n",
    "#rdkit\n",
    "import rdkit\n",
    "#biopython\n",
    "import Bio\n",
    "\n",
    "# Data Science Libs\n",
    "import numpy as np\n",
    "import pandas as pd\n",
    "# We can also use Snowpark for our analyses!\n",
    "from snowflake.snowpark.context import get_active_session\n",
    "session = get_active_session()\n",
    "# Add a query tag to the session. This helps with debugging and performance monitoring.\n",
    "session.query_tag = {\"origin\":\"sf_DEFAULT_DATABASE\", \"name\":\"aiml_notebooks_container_runtime\", \"version\":{\"major\":1, \"minor\":0}, \"attributes\":{\"is_hol\":1, \"source\":\"notebook\"}}\n",
    "# Set session context \n",
    "session.use_role(\"attendee_role\") \n",
    "\n",
    "# Print the current role, warehouse, and database/schema\n",
    "print(f\"role: {session.get_current_role()} | WH: {session.get_current_warehouse()} | DB.SCHEMA: {session.get_fully_qualified_current_schema()}\")\n",
    "     \n"
   ]
  },
  {
   "cell_type": "markdown",
   "id": "faa970fe-02e5-44cd-bbd3-443b7163b14b",
   "metadata": {
    "collapsed": false,
    "name": "head_explore_chembl29"
   },
   "source": [
    "## Part 1: Explore Chembl29 using SQL & Python\n",
    "\n",
    "Let's see how to seemlessly work in both sql and python in a single notebook and leverage the RDKit and Biopython libraries we installed."
   ]
  },
  {
   "cell_type": "code",
   "execution_count": null,
   "id": "dd65e9d3-72c7-4f6f-8aec-8392096bc9c8",
   "metadata": {
    "language": "sql",
    "name": "select_drug_discovery"
   },
   "outputs": [],
   "source": [
    "select * from DEFAULT_DATABASE.CHEMBL29.target_dictionary limit 20;"
   ]
  },
  {
   "cell_type": "code",
   "execution_count": null,
   "id": "f6911479-50ee-4c4b-99f4-14aea56bdef2",
   "metadata": {
    "language": "sql",
    "name": "retrieve_target"
   },
   "outputs": [],
   "source": [
    "---Retrieve target ChEMBL_ID, target_name, target_type, protein accessions and sequences for all protein targets:\n",
    "SELECT t.chembl_id AS target_chembl_id,\n",
    "t.pref_name        AS target_name,\n",
    "t.organism,\n",
    "t.target_type,\n",
    "c.accession        AS protein_id,\n",
    "c.sequence         AS protein_sequence\n",
    "FROM  DEFAULT_DATABASE.CHEMBL29.target_dictionary t\n",
    "  JOIN  DEFAULT_DATABASE.CHEMBL29.target_type tt ON t.target_type = tt.target_type\n",
    "  JOIN  DEFAULT_DATABASE.CHEMBL29.target_components tc ON t.tid = tc.tid\n",
    "  JOIN  DEFAULT_DATABASE.CHEMBL29.component_sequences c ON tc.component_id = c.component_id\n",
    "AND tt.parent_type  = 'PROTEIN';"
   ]
  },
  {
   "cell_type": "markdown",
   "id": "c52b1f05-fec0-4544-82b6-c2cad5105afd",
   "metadata": {
    "collapsed": false,
    "name": "head_reusable_functions"
   },
   "source": [
    "Now let's say we want a reusable function that can calculate properties given the amino acid sequence we see in the above dataframe. This is where we can leverage Snowpark Python UDFs.\n",
    "\n",
    "Although Biopython is available via Anaconda , we want the latest biopython package available that we installed in this environment as well for our udf\n",
    "\n",
    "We can now do this with Snowflake's default Artifact Repository \n",
    "https://docs.snowflake.com/en/developer-guide/udf/python/udf-python-packages \n",
    "\n",
    "Accessing this repo typically needs to be granted from Accountadmin."
   ]
  },
  {
   "cell_type": "code",
   "execution_count": null,
   "id": "022202cd-3d10-4e7e-a4b6-c10bb0e07ccc",
   "metadata": {
    "language": "python",
    "name": "leverage_biopython_library"
   },
   "outputs": [],
   "source": [
    "#leverage the Biopython library calculate some protein properties \n",
    "#based on it's amino acid sequence\n",
    "\n",
    "import snowflake.snowpark.types as T\n",
    "import snowflake.snowpark.functions as F\n",
    "\n",
    "@F.udf(input_types=[T.StringType()],return_type= T.VariantType(), stage_location=\"@DEFAULT_DATABASE.NOTEBOOKS.NOTEBOOK_1\",is_permanent=True,\n",
    "       name=\"protein_analysis_udf\",replace=True,artifact_repository=\"snowflake.snowpark.pypi_shared_repository\", artifact_repository_packages=[\"biopython\"])\n",
    "def udf(sequence):\n",
    "    from Bio.Seq import Seq\n",
    "    from Bio.SeqUtils.ProtParam import ProteinAnalysis\n",
    "    from Bio.SeqUtils import molecular_weight\n",
    "    from Bio.SeqUtils import IsoelectricPoint\n",
    "    from Bio.SeqRecord import SeqRecord\n",
    "\n",
    "    valid_protein_letters = set(\"ACDEFGHIKLMNPQRSTVWY\")\n",
    "\n",
    "    if sequence is None:\n",
    "        return None\n",
    "    elif not all(char.upper() in valid_protein_letters for char in sequence):\n",
    "        return {\"sequence\": sequence, \"error\": \"Invalid protein sequence\"}\n",
    "    else:\n",
    "        seq_record = SeqRecord(Seq(sequence), id=\"seq\", annotations={\"molecule_type\": \"protein\"})\n",
    "        protein =  ProteinAnalysis(str(seq_record.seq).lower(), seq_record.annotations[\"molecule_type\"])\n",
    "        aa_count = protein.count_amino_acids()\n",
    "        mw = molecular_weight(seq_record.seq, seq_record.annotations[\"molecule_type\"])\n",
    "        pI = IsoelectricPoint.IsoelectricPoint(seq_record.seq).pi()\n",
    "        aa_percent = {aa: count/len(seq_record.seq)*100 for aa, count in aa_count.items()}\n",
    "        return {\"sequence\": sequence, \"length\": len(sequence), \"molecular_weight\": mw, \"PI\": pI, \"amino_acid_perc\": aa_percent}"
   ]
  },
  {
   "cell_type": "code",
   "execution_count": null,
   "id": "b3f12741-01f7-4202-a172-d8f3079259ac",
   "metadata": {
    "language": "python",
    "name": "run_against_udf"
   },
   "outputs": [],
   "source": [
    "import streamlit as st\n",
    "import snowflake.snowpark.types as T\n",
    "import snowflake.snowpark.functions as F\n",
    "\n",
    "#Now lets run this Python UDF against the results of the sql dataframe using the {{cell#}} syntax\n",
    "seq_df = retrieve_target.to_df()\n",
    "seq_result_df=seq_df.select(\"target_name\",\"target_chembl_id\",\"protein_sequence\",\"organism\",\n",
    "                            F.call_udf(\"DEFAULT_DATABASE.NOTEBOOKS.PROTEIN_ANALYSIS_UDF\",seq_df[\"PROTEIN_SEQUENCE\"]).alias(\"udf_result\")).collect()\n",
    "\n",
    "seq_result_df[:20]                           "
   ]
  },
  {
   "cell_type": "markdown",
   "id": "e18cfe40-5006-474f-99e6-39892895434f",
   "metadata": {
    "collapsed": false,
    "name": "head_streamlit_notebooks"
   },
   "source": [
    "## Streamlit in Notebooks\n",
    "Let's combine this Function with some Streamlit based visualizations directly in the notebook"
   ]
  },
  {
   "cell_type": "code",
   "execution_count": null,
   "id": "ffba6719-061e-44c6-948b-f9fd51c84689",
   "metadata": {
    "language": "python",
    "name": "select_protein"
   },
   "outputs": [],
   "source": [
    "import pandas as pd\n",
    "import altair as alt\n",
    "\n",
    "# Create a dictionary to map display names (TARGET_NAME - TARGET_CHEMBL_ID) to the full Row object\n",
    "protein_options = {f\"{item.TARGET_NAME} - {item.TARGET_CHEMBL_ID}\": item for item in seq_result_df}\n",
    "\n",
    "# Get the list of display names for the selectbox\n",
    "protein_display_names = list(protein_options.keys())\n",
    "\n",
    "# Create a Streamlit selectbox\n",
    "selected_display_name = st.selectbox(\"Select a Protein\", protein_display_names)\n",
    "\n",
    "# Retrieve the full Row object based on the selected display name\n",
    "selected_data = protein_options.get(selected_display_name)\n",
    "\n",
    "if selected_data:\n",
    "    # Parse the UDF_RESULT JSON\n",
    "    udf_result = json.loads(selected_data.UDF_RESULT)\n",
    "\n",
    "    # Extract amino acid percentages\n",
    "    amino_acid_percentages = udf_result.get(\"amino_acid_perc\", {})\n",
    "\n",
    "    if amino_acid_percentages:\n",
    "        # Convert the dictionary to a Pandas DataFrame for easier charting\n",
    "        aa_df = pd.DataFrame(list(amino_acid_percentages.items()), columns=['Amino Acid', 'Percentage'])\n",
    "\n",
    "        # Create the Altair bar chart\n",
    "        chart = alt.Chart(aa_df).mark_bar().encode(\n",
    "            x=alt.X('Amino Acid', sort=None),  # sort=None to maintain alphabetical order\n",
    "            y='Percentage:Q',\n",
    "            tooltip=['Amino Acid', 'Percentage']\n",
    "        ).properties(\n",
    "            title=f\"Amino Acid Percentage for {selected_data.TARGET_NAME} ({selected_data.TARGET_CHEMBL_ID})\"\n",
    "        )\n",
    "\n",
    "        # Display the chart in Streamlit\n",
    "        st.altair_chart(chart, use_container_width=True)\n",
    "    else:\n",
    "        st.warning(\"Amino acid percentage data not found in the UDF_RESULT.\")\n",
    "else:\n",
    "    st.warning(\"Selected protein data not found.\")\n"
   ]
  },
  {
   "cell_type": "code",
   "execution_count": null,
   "id": "e935abbc-de24-4fdb-a51a-a0ab6a0c1934",
   "metadata": {
    "language": "sql",
    "name": "query_compounds"
   },
   "outputs": [],
   "source": [
    "--Query of compounds that have activity data that have been tested . \n",
    "SELECT distinct \n",
    "    m.chembl_id AS compound_chembl_id,   \n",
    "    s.canonical_smiles,   \n",
    "    psa,full_mwt,\n",
    "    t.pref_name AS target_name,\n",
    "    t.chembl_id AS target_chembl_id\n",
    "    FROM DEFAULT_DATABASE.CHEMBL29.compound_structures s left join \n",
    "    DEFAULT_DATABASE.CHEMBL29.molecule_dictionary m on s.molregno = m.molregno\n",
    "    join DEFAULT_DATABASE.CHEMBL29.compound_records r on m.molregno  = r.molregno \n",
    "    join DEFAULT_DATABASE.CHEMBL29.docs d on  r.doc_id  = d.doc_id  \n",
    "    join DEFAULT_DATABASE.CHEMBL29.activities act on r.record_id   = act.record_id \n",
    "    join DEFAULT_DATABASE.CHEMBL29.assays a on act.assay_id     = a.assay_id   \n",
    "    join DEFAULT_DATABASE.CHEMBL29.target_dictionary t on a.tid            = t.tid \n",
    "    join DEFAULT_DATABASE.CHEMBL29.compound_properties c on c.molregno=act.molregno\n",
    "    WHERE  standard_relation = '=' AND\n",
    "    standard_type = 'IC50' AND\n",
    "    standard_units = 'nM' AND\n",
    "    psa IS NOT NULL AND psa> 0 and\n",
    "    full_mwt IS NOT NULL and full_mwt>0 and standard_value >0 \n",
    "    order by target_name\n",
    "    limit 200\n",
    "\n"
   ]
  },
  {
   "cell_type": "markdown",
   "id": "105c24e9-18f9-4529-b211-bad49360e0ee",
   "metadata": {
    "collapsed": false,
    "name": "head_rdkit"
   },
   "source": [
    "Now let's use RDKIT libray to calculate Lipinski values (molecular descriptors) of an compound when user provides a SMILES string. To learn more about the lipinski values check out this resource: http://dev.drugbank.com/guides/terms/lipinski-s-rule-of-five"
   ]
  },
  {
   "cell_type": "code",
   "execution_count": null,
   "id": "a56a84c0-7167-4baf-80df-bd5ac181f22d",
   "metadata": {
    "language": "python",
    "name": "rdkit_calc_lipinski"
   },
   "outputs": [],
   "source": [
    "import snowflake.snowpark as snowpark\n",
    "from snowflake.snowpark.types import StructField, StructType, StringType, FloatType, VariantType\n",
    "import snowflake.snowpark.functions as F\n",
    "\n",
    "@F.udf(input_types=[StringType()],return_type=VariantType(),stage_location=\"@NOTEBOOK_1\",is_permanent=True,\n",
    "       name=\"lipinski_udf\", replace=True,artifact_repository=\"snowflake.snowpark.pypi_shared_repository\", artifact_repository_packages=[\"rdkit\"])\n",
    "def lipinski_udf(smiles:str) -> dict :\n",
    "    from rdkit import Chem\n",
    "    from rdkit.Chem import Descriptors, Lipinski\n",
    "    # Calculates Lipinski descriptors based on the \"Rule of 5\" given a SMILES string input. \n",
    "    # Moleculer Weight <= 500\n",
    "    # LogP <= 5\n",
    "    # H-Bond Donor Count <= 5\n",
    "    # H-Bond Acceptor Count <= 10\n",
    "    # Parameters:\n",
    "    # smiles (str): A SMILES string representing a molecule.\n",
    "        \n",
    "    # Returns:\n",
    "    # dict: A dictionary containing the Lipinski descriptors calculated for the molecule.  \n",
    "\n",
    "    mol = Chem.MolFromSmiles(smiles) \n",
    "    num_h_donors = Chem.rdMolDescriptors.CalcNumHBD(mol)\n",
    "    num_h_acceptors = Chem.rdMolDescriptors.CalcNumHBA(mol)\n",
    "    mol_wt = Chem.rdMolDescriptors.CalcExactMolWt(mol)\n",
    "    \n",
    "    lipinski_desc = {\n",
    "        'MW': mol_wt,\n",
    "        'HBD': num_h_donors,\n",
    "        'HBA': num_h_acceptors,\n",
    "        'logP': Chem.Crippen.MolLogP(mol)\n",
    "    }\n",
    "    \n",
    "    # Calculate Lipinski's Rule of 5 violations\n",
    "    lipinski_violations = {\n",
    "        'MW': mol_wt > 500,\n",
    "        'HBD': num_h_donors > 5,\n",
    "        'HBA': num_h_acceptors > 10,\n",
    "        'logP': Chem.Crippen.MolLogP(mol) > 5\n",
    "    }\n",
    "    \n",
    "    # Add Lipinski's Rule of 5 violation flags to descriptor dictionary\n",
    "    for desc, value in lipinski_violations.items():\n",
    "        lipinski_desc[desc + '_violation'] = value\n",
    "    \n",
    "    return lipinski_desc\n",
    "\n"
   ]
  },
  {
   "cell_type": "code",
   "execution_count": null,
   "id": "4ee1294f-8452-4577-b8f2-d0e878542c5b",
   "metadata": {
    "language": "python",
    "name": "smiles_input_use"
   },
   "outputs": [],
   "source": [
    "#Take one of the SMILES strings from the SQL output in CELL37 above to use as a variable when we call the UDF below.\n",
    "smiles_input = st.text_input('Enter a SMILES string:')"
   ]
  },
  {
   "cell_type": "code",
   "execution_count": null,
   "id": "11fb5f3b-5c9d-4f1c-ae16-5abf6e5cabdd",
   "metadata": {
    "language": "sql",
    "name": "run_lipinski_udf_one_smiles"
   },
   "outputs": [],
   "source": [
    "SELECT '{{smiles_input}}' as smiles, lipinski:MW, lipinski:HBD, lipinski:HBA, lipinski:logP,\n",
    "               lipinski:MW_violation, lipinski:HBD_violation, lipinski:HBA_violation, lipinski:logP_violation\n",
    "        FROM (\n",
    "            SELECT DEFAULT_DATABASE.NOTEBOOKS.LIPINSKI_UDF('{{smiles_input}}') AS lipinski\n",
    "        ) as lipinski_desc\n"
   ]
  },
  {
   "cell_type": "code",
   "execution_count": null,
   "id": "c4ee511a-ae04-45dc-96c7-2001a177d012",
   "metadata": {
    "language": "python",
    "name": "calc_lipinski_values"
   },
   "outputs": [],
   "source": [
    "\n",
    "# Include rdkit\n",
    "# Use the smiles input variable to calculate the lipinski values and draw the structure using rdkit rdMolDraw2D\n",
    "from rdkit import Chem\n",
    "from rdkit.Chem.Draw import rdMolDraw2D\n",
    "\n",
    "from snowflake.snowpark.context import get_active_session\n",
    "session = get_active_session()\n",
    "\n",
    "try:\n",
    "    mol = Chem.MolFromSmiles(smiles_input)\n",
    "    if mol is None or smiles_input is '':\n",
    "        st.warning('Invalid SMILES')\n",
    "    else:\n",
    "        st.success('Valid SMILES')\n",
    "except Exception as e:\n",
    "    st.warning('Error occurred: {}'.format(e))\n",
    "\n",
    "col1,col2= st.columns(2)\n",
    "with col1:\n",
    "    query4 = \"\"\"SELECT lipinski:MW as Molecular_Weight, lipinski:HBD as HBD, lipinski:HBA as HBA, lipinski:logP as LogP,\n",
    "       lipinski:MW_violation , lipinski:HBD_violation, lipinski:HBA_violation, lipinski:logP_violation\n",
    "FROM (\n",
    "    SELECT DEFAULT_DATABASE.NOTEBOOKS.lipinski_udf('{}') AS lipinski\n",
    ") as lipinski_desc\"\"\".format(smiles_input)\n",
    "    results = session.sql(query4).collect()\n",
    "    results_dict=results[0].as_dict()\n",
    "    def replace_bool_with_emoji(value):\n",
    "        return '✅' if value.lower() == 'false' else '⛔'\n",
    "    def display_dict_as_table(dictionary):\n",
    "        lipinski_keys = [key for key in dictionary if key.startswith('LIPINSKI:')]\n",
    "        lipinski_violations = {key: dictionary.pop(key) for key in lipinski_keys}\n",
    "\n",
    "        data = {\n",
    "        'Lipinski Feature': list(dictionary.keys()),\n",
    "        'Value': list(dictionary.values()),\n",
    "        \"Lipinski's Rule of Five\": [replace_bool_with_emoji(str(lipinski_violations.get('LIPINSKI:MW_VIOLATION', ''))),\n",
    "                               replace_bool_with_emoji(str(lipinski_violations.get('LIPINSKI:HBD_VIOLATION', ''))),\n",
    "                               replace_bool_with_emoji(str(lipinski_violations.get('LIPINSKI:HBA_VIOLATION', ''))),\n",
    "                               replace_bool_with_emoji(str(lipinski_violations.get('LIPINSKI:LOGP_VIOLATION', '')))\n",
    "                               ]\n",
    "        }\n",
    "\n",
    "        df = pd.DataFrame(data)\n",
    "        return df\n",
    "\n",
    "    st.dataframe(display_dict_as_table(results_dict), use_container_width=True)\n",
    "    st.info(\"To learn more about the Lipinski's Rule of Five: https://revive.gardp.org/resource/lipinskis-rule-of-5/?cf=encyclopaedia\", icon=\"ℹ️\")\n",
    "# Create a drawing window with RDKit\n",
    "    drawer = rdMolDraw2D.MolDraw2DCairo(400, 400)\n",
    "    drawer.DrawMolecule(mol)\n",
    "    drawer.FinishDrawing()\n",
    "    \n",
    "    # Display the drawing in Streamlit\n",
    "    img = drawer.GetDrawingText()\n",
    "    st.image(img, output_format='PNG')\n"
   ]
  },
  {
   "cell_type": "markdown",
   "id": "18b74581-3c22-4524-9e1a-2ce830552b10",
   "metadata": {
    "collapsed": false,
    "name": "head_snowpark_ml_chembl29"
   },
   "source": [
    "## Part 2: Snowpark ML with CHEMBL29\n",
    "\n",
    "This portion of the Lab will walk through key SnowflakeML features. The goal is to train a model to help researchers and chemists classify if a drug compound based on its structure (SMILES) will be effective against a specific disease. For example, we will train a model specific for Heart Disease, Alzeihmer's , prostate cancer, or arthritis, etc. "
   ]
  },
  {
   "cell_type": "code",
   "execution_count": null,
   "id": "899e8ac8-ec79-4922-906b-7d114ae38b58",
   "metadata": {
    "language": "python",
    "name": "snowpark_ml"
   },
   "outputs": [],
   "source": [
    "import pandas as pd\n",
    "import numpy as np\n",
    "import sklearn\n",
    "import matplotlib.pyplot as mp\n",
    "import seaborn as sb\n",
    "import math\n",
    "\n",
    "#import shap\n",
    "from datetime import datetime\n",
    "import streamlit as st\n",
    "import rdkit\n",
    "\n",
    "# Snowpark ML\n",
    "from snowflake.ml.registry import Registry\n",
    "from entities import search_algorithm\n",
    "#Snowflake feature store\n",
    "from snowflake.ml.feature_store import FeatureStore, FeatureView, Entity, CreationMode\n",
    "\n",
    "# Snowpark session\n",
    "from snowflake.snowpark import DataFrame\n",
    "from snowflake.snowpark.types import IntegerType\n",
    "import snowflake.snowpark.functions as F\n",
    "from snowflake.snowpark import Window\n",
    "\n",
    "#setup snowpark session\n",
    "from snowflake.snowpark.context import get_active_session\n",
    "session = get_active_session()\n",
    "session"
   ]
  },
  {
   "cell_type": "markdown",
   "id": "2bfe2265-ae31-4c49-925b-c85863c05371",
   "metadata": {
    "collapsed": false,
    "name": "head_training"
   },
   "source": [
    "Let's start by gathering the relevant training data from the Chembl Data. We want chemical compounds with their SMILES structure and the associated targets they have been tested against. A target can be a protein/enzyme that has been identified to have a significant impact to a disease proliferation. "
   ]
  },
  {
   "cell_type": "code",
   "execution_count": null,
   "id": "754fc45d-7007-478f-b428-177655a7fe32",
   "metadata": {
    "language": "sql",
    "name": "create_view_training"
   },
   "outputs": [],
   "source": [
    "--Create this view that brings together the compound, related properties and their associated target information  together from Chembl tables\n",
    "create or replace view DEFAULT_DATABASE.CHEMBL29.compound_target_features as ( \n",
    "SELECT DISTINCT\n",
    "    md.chembl_id AS compound_chembl_id,\n",
    "    cs.canonical_smiles as smiles,\n",
    "    td.tid as targetid,\n",
    "    td.pref_name AS target_name,\n",
    "    a.pchembl_value as pchembl_value,\n",
    "    tt.target_type,\n",
    "    td.chembl_id as target_chembl_id,\n",
    "    cp.full_mwt as mwt,\n",
    "    cp.hba_lipinski as hba,\n",
    "    cp.hbd_lipinski as hbd,\n",
    "    cp.alogp as logp,\n",
    "    cp.num_lipinski_ro5_violations as num_lipinski_violations\n",
    "    \n",
    "FROM\n",
    "    DEFAULT_DATABASE.CHEMBL29.molecule_dictionary AS md\n",
    "    JOIN DEFAULT_DATABASE.CHEMBL29.compound_structures cs ON md.molregno = cs.molregno\n",
    "    JOIN DEFAULT_DATABASE.CHEMBL29.activities AS a ON md.molregno = a.molregno\n",
    "    JOIN DEFAULT_DATABASE.CHEMBL29.assays AS asy ON a.assay_id = asy.assay_id\n",
    "    JOIN DEFAULT_DATABASE.CHEMBL29.target_dictionary AS td ON asy.tid = td.tid\n",
    "    JOIN DEFAULT_DATABASE.CHEMBL29.target_type AS tt ON td.target_type = tt.target_type\n",
    "    JOIN DEFAULT_DATABASE.CHEMBL29.compound_properties as cp on cp.molregno=md.molregno\n",
    "WHERE\n",
    "    a.standard_type IN ('IC50', 'EC50', 'Ki', 'Kd', 'Potency')\n",
    "    AND a.standard_relation IN ('=', '<', '>', '<=', '>=', '~')\n",
    "    AND a.standard_value IS NOT NULL );\n",
    "\n",
    "select * from DEFAULT_DATABASE.CHEMBL29.compound_target_features limit 5;"
   ]
  },
  {
   "cell_type": "markdown",
   "id": "5627e55a-f76d-44e7-957c-1708ba2ae0e5",
   "metadata": {
    "collapsed": false,
    "name": "head_feature_engineering"
   },
   "source": [
    "## Feature Engineering with Snowpark APIs"
   ]
  },
  {
   "cell_type": "code",
   "execution_count": null,
   "id": "67d04129-b107-4e8d-a49f-5629c771efe2",
   "metadata": {
    "language": "python",
    "name": "define_targets"
   },
   "outputs": [],
   "source": [
    "#define the targets associated with a disease of interest\n",
    "#Lets compounds for disease associated targets in chembl\n",
    "disease='heart_disease'\n",
    "target_id = ['CHEMBL3311','CHEMBL1942','CHEMBL1916', 'CHEMBL1867','CHEMBL233'] \n",
    "\n",
    "#to register a new disease model select from the options below\n",
    "#refer to the streamlit app to view the current list of models\n",
    "#['CHEMBL2487','CHEMBL220','CHEMBL1914','CHEMBL2015','CHEMBL1904','CHEMBL2094124', 'CHEMBL4036','CHEMBL1972'] alzeihmers_disease\n",
    "# ['CHEMBL2364155','CHEMBL3553','CHEMBL2085','CHEMBL230','CHEMBL1825','CHEMBL6111'] rheumatoid_arthritis\n",
    "#['CHEMBL3311','CHEMBL1942','CHEMBL1916', 'CHEMBL1867','CHEMBL233'] heart_disease\n",
    "\n",
    "#['CHEMBL1871','CHEMBL2527','CHEMBL2034','CHEMBL2597','CHEMBL2052032','CHEMBL1855'] prostate_cancer\n",
    "#['CHEMBL6152','CHEMBL2179','CHEMBL1075104','CHEMBL217','CHEMBL2039','CHEMBL234'] parkison_disease\n",
    "\n",
    "# get the bioactivity data for the target, remove any nulls \n",
    "chembl_features=session.table('DEFAULT_DATABASE.CHEMBL29.compound_target_features').select('SMILES','PCHEMBL_VALUE', \n",
    " 'HBA', 'HBD', 'LOGP', 'NUM_LIPINSKI_VIOLATIONS', 'MWT').filter(F.col('TARGET_CHEMBL_ID').isin(target_id)).na.drop().dropDuplicates()\n",
    "\n",
    "\n",
    "print(f\"{chembl_features.count()} compounds associated with these targets.\")"
   ]
  },
  {
   "cell_type": "code",
   "execution_count": null,
   "id": "29c914de-3943-4dcb-bb0d-ab93e9c6ab4e",
   "metadata": {
    "language": "python",
    "name": "create_feature_store"
   },
   "outputs": [],
   "source": [
    "#create feature store client, we can pass in an existing db name or a new db will be created on initialization\n",
    "fs = FeatureStore(\n",
    "session=session,\n",
    "database=\"DEFAULT_DATABASE\",\n",
    "name=\"NOTEBOOKS\",\n",
    "default_warehouse=\"DEFAULT_WH\",\n",
    "creation_mode=CreationMode.CREATE_IF_NOT_EXIST,\n",
    ")"
   ]
  },
  {
   "cell_type": "code",
   "execution_count": null,
   "id": "c34dfe80-e584-4e1f-ad5d-c4efc74f9574",
   "metadata": {
    "language": "python",
    "name": "create_entity_and_register"
   },
   "outputs": [],
   "source": [
    "#Create entity and register to feature store\n",
    "smiles_entity = Entity(name=\"SMILES\", join_keys=[\"SMILES\"])\n",
    "\n",
    "fs.register_entity(smiles_entity)\n",
    "\n",
    "fs.list_entities().show()"
   ]
  },
  {
   "cell_type": "code",
   "execution_count": null,
   "id": "ce110000-1111-2222-3333-ffffff000003",
   "metadata": {
    "language": "python",
    "name": "register_morgan_fingerprint"
   },
   "outputs": [],
   "source": [
    "#register morgan fingerprint udf \n",
    "import snowflake.snowpark.types as T\n",
    "import snowflake.snowpark.functions as F\n",
    "\n",
    "@F.udf(input_types=[T.StringType(), T.IntegerType()],return_type= T.ArrayType(), \n",
    "       stage_location=\"DEFAULT_DATABASE.NOTEBOOKS.NOTEBOOK_1\",is_permanent=True,name=\"MORGAN_FGP_BIT_UDF\",\n",
    "       replace=True, artifact_repository=\"snowflake.snowpark.pypi_shared_repository\", artifact_repository_packages=[\"rdkit\", \"numpy\"])\n",
    "\n",
    "def udf(smiles, bit):\n",
    "    from rdkit import Chem\n",
    "    from rdkit.Chem import AllChem\n",
    "    import numpy as np\n",
    "    \n",
    "    mol = Chem.MolFromSmiles(smiles)\n",
    "    #the function GetMorganFingerprintAsBitVect () was used to create the fingerprint as a bit \n",
    "    # vector meaning the resulting vector will be composed on 0s and 1s. \n",
    "    # The 1s will reperesnt the presence of a certain molecule structure, while 0s will \n",
    "    # represent the absence of the same.\n",
    "    fp =AllChem.GetMorganFingerprintAsBitVect(mol, 2, nBits=bit)\n",
    "    array=np.array(fp)\n",
    "    return array"
   ]
  },
  {
   "cell_type": "code",
   "execution_count": null,
   "id": "ce110000-1111-2222-3333-ffffff000004",
   "metadata": {
    "language": "python",
    "name": "test_fingerprint_udf"
   },
   "outputs": [],
   "source": [
    "#test the function was registered and can be called\n",
    "bit=32\n",
    "df = session.sql(\"select morgan_fgp_bit_udf('CC(=O)Nc1ccc(cc1)S(=O)(=O)N', {});\".format(bit))\n",
    "print(df.collect())"
   ]
  },
  {
   "cell_type": "code",
   "execution_count": null,
   "id": "ce110000-1111-2222-3333-ffffff000005",
   "metadata": {
    "language": "python",
    "name": "run_fingerprint_with_features"
   },
   "outputs": [],
   "source": [
    "#call the UDF on dataframe\n",
    "#drop duplicates, cast data types, and rename columns\n",
    "#result should be 9445 for heart disease\n",
    "fingerprint=chembl_features.select(F.call_udf(\"morgan_fgp_bit_udf\", F.col(\"smiles\"), bit).alias(\"fingerprint\"), \"smiles\", \n",
    "                                   chembl_features.col('HBA').cast(\"Float\").alias(\"HBA\"), \n",
    "                                   chembl_features.col('HBD').cast(\"Float\").alias(\"HBD\"), \n",
    "                                   chembl_features.col(\"LOGP\").cast(\"Float\").alias(\"LOGP\"), \n",
    "                                   chembl_features.col('NUM_LIPINSKI_VIOLATIONS').cast(\"Float\").alias(\"NUM_LIPINSKI_VIOLATIONS\"), \n",
    "                                   chembl_features.col(\"MWT\").cast(\"Float\").alias(\"MWT\"), \"PCHEMBL_VALUE\" ).dropDuplicates()\n",
    "print(fingerprint.count())"
   ]
  },
  {
   "cell_type": "code",
   "execution_count": null,
   "id": "ce110000-1111-2222-3333-ffffff000006",
   "metadata": {
    "language": "python",
    "name": "flatten_extract_fingerprint_value"
   },
   "outputs": [],
   "source": [
    "#use flatten function to extract the fingerprint value at each index\n",
    "flattened=fingerprint.select(\"smiles\", 'HBA', 'HBD',\"LOGP\", \"NUM_LIPINSKI_VIOLATIONS\", \"MWT\" ,\"PCHEMBL_VALUE\", \n",
    "                             F.flatten(fingerprint[\"fingerprint\"], outer=True))\n",
    "array_vals=flattened.select( \"smiles\",'HBA', 'HBD',\"LOGP\", \"NUM_LIPINSKI_VIOLATIONS\", \"MWT\", \"PCHEMBL_VALUE\",\n",
    "                            flattened[\"value\"].as_(\"fingerprint_number\"), F.concat(F.lit('INDEX_'),\n",
    "                            flattened[\"index\"]).as_(\"index\"))\n",
    "st.dataframe(array_vals.limit(20))\n",
    "#array_vals.groupBy([\"index\", \"smiles\"]).agg(F.count(array_vals['fingerprint_number'])).show()"
   ]
  },
  {
   "cell_type": "code",
   "execution_count": null,
   "id": "ce110000-1111-2222-3333-ffffff000007",
   "metadata": {
    "language": "python",
    "name": "pivot_index"
   },
   "outputs": [],
   "source": [
    "#pivot each index into it's own column with the index position\n",
    "fdf=array_vals.pivot(\"index\", [\"INDEX_{}\".format(i) for i in range(bit)]).sum(\"fingerprint_number\").sort(array_vals[\"smiles\"])\n",
    "cols_dict={fdf[\"'INDEX_{}'\".format(idx)]: \"index_{}\".format(idx) for idx in range(bit)}\n",
    "finaldf=fdf.rename(cols_dict)\n",
    "st.dataframe(finaldf.sort(F.col(\"mwt\"), ascending=False).limit(10))\n",
    "\n",
    "#number of compounds related to the disease, confirm it is still 9445 after the restructuring the dataframe (no duplicate rows created)\n",
    "print(finaldf.count())\n"
   ]
  },
  {
   "cell_type": "markdown",
   "id": "aeae945d-7899-4e65-9a44-b8c462f3a4f4",
   "metadata": {
    "collapsed": false,
    "name": "head_oss_libaries_pandas"
   },
   "source": [
    "Now we can leverage OSS libraries with Snowpark with the Snowpark Pandas API: https://docs.snowflake.com/en/developer-guide/snowpark/python/pandas-on-snowflake"
   ]
  },
  {
   "cell_type": "code",
   "execution_count": null,
   "id": "ce110000-1111-2222-3333-ffffff000002",
   "metadata": {
    "language": "python",
    "name": "oss_lib_with_pandas_api"
   },
   "outputs": [],
   "source": [
    "from sklearn.preprocessing import Binarizer\n",
    "from sklearn.ensemble import RandomForestClassifier\n",
    "import modin.pandas as mpd\n",
    "import snowflake.snowpark.modin.plugin\n",
    "\n",
    "# create a binary classification label for each compound based on activity threshold\n",
    "#The pChEMBL field in the ChEMBL database is a useful way to represent the potency or affinity of compounds on a negative logarithmic scale. It allows you to compare different measurements (IC50, XC50, EC50, AC50, Ki, Kd, or Potency) in a standardized way. \n",
    "#Let's use Snowpark ML Preprocessing functions to binarize the dataframe https://docs.snowflake.com/en/developer-guide/snowpark-ml/reference/latest/api/modeling/snowflake.ml.modeling.preprocessing.Binarizer \n",
    "chembl_final_df = finaldf.to_snowpark_pandas()\n",
    "\n",
    "# create a binary classification label for each compound based on activity threshold\n",
    "# Use scikit-learn's Binarizer\n",
    "binarizer = Binarizer(threshold=6.0)\n",
    "\n",
    "# Reshape the 'PCHEMBL_VALUE' column as scikit-learn transformers expect a 2D array\n",
    "pchembl_values = chembl_final_df[['PCHEMBL_VALUE']]\n",
    "\n",
    "# Apply the binarizer and add the result as a new column 'ACTIVE'\n",
    "chembl_final_df['ACTIVE'] = binarizer.fit_transform(pchembl_values)\n",
    "\n",
    "# Display the first 10 rows of the updated Pandas DataFrame\n",
    "st.markdown(\"#### DataFrame after binarization:\")\n",
    "st.write(chembl_final_df.head(10))\n",
    "\n",
    "# print the number of active compounds based on threshold\n",
    "st.markdown(f\"Number of active compounds (pchembl_value > 6.0): {chembl_final_df['ACTIVE'].sum()}\")\n"
   ]
  },
  {
   "cell_type": "markdown",
   "id": "a4eec8b3-318c-4ba6-a42d-92d8f9c25295",
   "metadata": {
    "collapsed": false,
    "name": "head_create_feature_view"
   },
   "source": [
    "Let's try creating a Feature View with this final dataframe"
   ]
  },
  {
   "cell_type": "code",
   "execution_count": null,
   "id": "b8cef5a0-138c-412b-ba63-6fd764bfad13",
   "metadata": {
    "language": "python",
    "name": "create_feature_view"
   },
   "outputs": [],
   "source": [
    "#define feature view\n",
    "\n",
    "#need a snowpark df\n",
    "chembl_final_df.to_snowflake( \"chembl_features\", table_type= \"transient\",if_exists='replace')\n",
    "chembl_df = session.table(\"chembl_features\")\n",
    "\n",
    "\n",
    "my_fv = FeatureView(\n",
    "name=f\"{disease}_{bit}_fv\",\n",
    "entities=[smiles_entity],\n",
    "feature_df=chembl_df,\n",
    "refresh_freq=None,\n",
    "desc=\"heart disease feature view\"\n",
    "#Optional param timestamp_col=\"TS\",\n",
    "#optional param refresh_freq=\"1 minute\",\n",
    ")\n",
    "\n",
    "#register\n",
    "my_fv = fs.register_feature_view(\n",
    "feature_view=my_fv,\n",
    "version=\"V1\",\n",
    "overwrite=True\n",
    ")"
   ]
  },
  {
   "cell_type": "code",
   "execution_count": null,
   "id": "ec6895c1-223f-4ff3-90a4-090aa3b0ffec",
   "metadata": {
    "language": "python",
    "name": "list_views"
   },
   "outputs": [],
   "source": [
    "#discovery Feature Views\n",
    "\n",
    "fs.list_feature_views()"
   ]
  },
  {
   "cell_type": "code",
   "execution_count": null,
   "id": "8eb67974-d496-42a6-a2f3-fe780d6b2a34",
   "metadata": {
    "language": "python",
    "name": "link_feature_store_ui"
   },
   "outputs": [],
   "source": [
    "#Create link to feature store UI to inspect newly created feature view!\n",
    "org_name = session.sql('SELECT CURRENT_ORGANIZATION_NAME()').collect()[0][0]\n",
    "account_name = session.sql('SELECT CURRENT_ACCOUNT_NAME()').collect()[0][0]\n",
    "\n",
    "st.write(f'https://app.snowflake.com/{org_name}/{account_name}/#/features/database/DEFAULT_DATABASE/store/NOTEBOOKS')"
   ]
  },
  {
   "cell_type": "code",
   "execution_count": null,
   "id": "ce110000-1111-2222-3333-ffffff000010",
   "metadata": {
    "language": "python",
    "name": "training_and_testing"
   },
   "outputs": [],
   "source": [
    "#Split into training and testing sets\n",
    "#convert to snowpark dataframe from snowpark pandas\n",
    "chembl_df=mpd.to_snowpark(chembl_final_df)\n",
    "features_train_df, features_test_df = chembl_df.random_split(weights=[0.80, 0.20], seed=0)\n",
    "\n",
    "\n",
    "#Training and Test row count\n",
    "print(features_train_df.count(),features_test_df.count())"
   ]
  },
  {
   "cell_type": "code",
   "execution_count": null,
   "id": "ce110000-1111-2222-3333-ffffff000011",
   "metadata": {
    "language": "python",
    "name": "prepare_x_y_values"
   },
   "outputs": [],
   "source": [
    "#Prepare our X and Y Values for our random forrest classification\n",
    "features_train_x=features_train_df.drop(\"ACTIVE\", \"PCHEMBL_VALUE\", \"SMILES\")\n",
    "features_train_y=features_train_df.select([\"ACTIVE\"])\n",
    "\n",
    "features_train_pd_x=features_train_x.to_snowpark_pandas()\n",
    "features_train_pd_y=np.array(features_train_y.to_snowpark_pandas()).ravel()\n",
    "\n",
    "st.markdown('#### X - Features')\n",
    "st.write(features_train_pd_x)\n",
    "st.markdown('#### Y - Target')\n",
    "st.write(features_train_pd_y)\n"
   ]
  },
  {
   "cell_type": "code",
   "execution_count": null,
   "id": "ce110000-1111-2222-3333-ffffff000012",
   "metadata": {
    "language": "python",
    "name": "import_model"
   },
   "outputs": [],
   "source": [
    "from sklearn import datasets, ensemble\n",
    "\n",
    "clf = ensemble.RandomForestClassifier(random_state=42)\n"
   ]
  },
  {
   "cell_type": "code",
   "execution_count": null,
   "id": "ce110000-1111-2222-3333-ffffff000013",
   "metadata": {
    "codeCollapsed": false,
    "language": "python",
    "name": "fit_model_with_xy"
   },
   "outputs": [],
   "source": [
    "clf.fit(features_train_pd_x, features_train_pd_y)"
   ]
  },
  {
   "cell_type": "code",
   "execution_count": null,
   "id": "ce110000-1111-2222-3333-ffffff000015",
   "metadata": {
    "language": "python",
    "name": "run_prediction"
   },
   "outputs": [],
   "source": [
    "# Run Prediction on the test data\n",
    "\n",
    "features_test_pd_x=features_test_df.drop(\"ACTIVE\", \"PCHEMBL_VALUE\", \"SMILES\").to_snowpark_pandas()\n",
    "features_test_pd_y=np.array(features_test_df.select([\"ACTIVE\"]).to_snowpark_pandas()).ravel()\n",
    "\n",
    "prediction_results=clf.predict(features_test_pd_x)\n",
    "\n",
    "prediction_results"
   ]
  },
  {
   "cell_type": "code",
   "execution_count": null,
   "id": "1d1d10f0-080f-4edb-8b16-192595e18712",
   "metadata": {
    "language": "python",
    "name": "discover_accuracy"
   },
   "outputs": [],
   "source": [
    "from sklearn.metrics import f1_score, precision_score, recall_score, accuracy_score\n",
    "\n",
    "accuracy= accuracy_score(features_test_pd_y, prediction_results)\n",
    "print(\"Accuracy:\", accuracy)"
   ]
  },
  {
   "cell_type": "markdown",
   "id": "78f8a658-58bc-4bc9-ab22-2510c77d3d18",
   "metadata": {
    "collapsed": false,
    "name": "head_register_model"
   },
   "source": [
    "Let's Register this model in the Snowflake Model Registry:\n",
    "https://docs.snowflake.com/developer-guide/snowflake-ml/model-registry/overview "
   ]
  },
  {
   "cell_type": "code",
   "execution_count": null,
   "id": "ce110000-1111-2222-3333-ffffff000016",
   "metadata": {
    "language": "python",
    "name": "register_model"
   },
   "outputs": [],
   "source": [
    "from snowflake.ml.registry import Registry\n",
    "registry = Registry(session=session, database_name=\"DEFAULT_DATABASE\", schema_name= \"NOTEBOOKS\")"
   ]
  },
  {
   "cell_type": "code",
   "execution_count": null,
   "id": "6fa01d16-7ff1-4e1c-813f-167c9bea392f",
   "metadata": {
    "codeCollapsed": false,
    "collapsed": true,
    "language": "python",
    "name": "deploy_base_model_to_registry"
   },
   "outputs": [],
   "source": "#Deploy the base model to the model registry\nmodel_name=\"predict_activity_hd\"\nbase_version_name = \"v1\"\n\ntry:\n    mv_base = registry.get_model(model_name).version(base_version_name)\n    print(\"Found existing model version!\")\nexcept:\n    print(\"Logging new model version...\")\n    mv_base = registry.log_model(\n        model_name=model_name,\n        model=clf, \n        version_name=base_version_name,\n        conda_dependencies=[\"scikit-learn\", \"rdkit\"],\n        sample_input_data = features_train_x.limit(100), #using snowpark df to maintain lineage\n        target_platforms= [\"SNOWPARK_CONTAINER_SERVICES\"], #serve the model in warehouse or spcs\n        comment = \"\"\"ML model for predicting compounds targeting heart disease\n                    \"\"\",\n        options={'relax_version': False, \"enable_explainility\": True}\n    )\n    "
  },
  {
   "cell_type": "code",
   "execution_count": null,
   "id": "e1d3371b-8710-475b-9196-ae372f90a86c",
   "metadata": {
    "language": "python",
    "name": "set_metrics"
   },
   "outputs": [],
   "source": [
    "#metrics can be added during the time of registering or after like below\n",
    "mv_base.set_metric(metric_name=\"Accuracy Score\", value=accuracy)\n",
    "mv_base.set_metric(metric_name=\"stage\", value=\"testing\")\n",
    "mv_base.set_metric(metric_name=\"disease\",value=disease)\n",
    "mv_base.set_metric(metric_name=\"targets\", value=target_id) \n",
    "mv_base.set_metric(metric_name=\"classifier_type\",value=\"random_forrest_classifier\")\n",
    "mv_base.set_metric(metric_name=\"fingerprint_bit\", value=bit)"
   ]
  },
  {
   "cell_type": "code",
   "execution_count": null,
   "id": "ce110000-1111-2222-3333-ffffff000018",
   "metadata": {
    "language": "python",
    "name": "get_model_and_version"
   },
   "outputs": [],
   "source": [
    "#get reference to model and version\n",
    "m = registry.get_model(model_name)\n",
    "mv= m.version(base_version_name)\n",
    "mv"
   ]
  },
  {
   "cell_type": "code",
   "execution_count": null,
   "id": "ce110000-1111-2222-3333-ffffff000020",
   "metadata": {
    "language": "python",
    "name": "get_metrics"
   },
   "outputs": [],
   "source": [
    "c1,c2,c3 = st.columns(3)\n",
    "\n",
    "with c1:\n",
    "    st.metric('Accuracy Score:',mv.get_metric(\"Accuracy Score\"))\n",
    "with c2:\n",
    "    st.metric('Stage:',mv.get_metric(\"stage\"))\n",
    "with c3:\n",
    "    st.metric('Disease:',mv.get_metric(\"disease\"))\n",
    "\n",
    "with c1:\n",
    "    st.write('Targets:',mv.get_metric(\"targets\"))\n",
    "with c2:\n",
    "    st.metric('Classifier Type:',mv.get_metric(\"classifier_type\"))\n",
    "with c3:\n",
    "    st.metric('Fingerprint Bit:',mv.get_metric(\"fingerprint_bit\"))"
   ]
  },
  {
   "cell_type": "code",
   "execution_count": null,
   "id": "ce110000-1111-2222-3333-ffffff000021",
   "metadata": {
    "language": "python",
    "name": "show_versions"
   },
   "outputs": [],
   "source": [
    "#Get informational DataFrame \n",
    "m.show_versions()"
   ]
  },
  {
   "cell_type": "code",
   "execution_count": null,
   "id": "433f6043-5418-4d96-a93d-559f4fe92963",
   "metadata": {
    "codeCollapsed": false,
    "collapsed": true,
    "language": "python",
    "name": "show_functions"
   },
   "outputs": [],
   "source": [
    "mv.show_functions()"
   ]
  },
  {
   "cell_type": "markdown",
   "id": "d308a539-398b-49cd-8352-f284d3ed2046",
   "metadata": {
    "collapsed": false,
    "name": "call_registered_models_methods"
   },
   "source": [
    "## Call the registered Model's methods using the Run (). \n",
    "\n",
    "https://docs.snowflake.com/developer-guide/snowflake-ml/model-registry/overview#calling-model-methods\n",
    "\n",
    "We can envoke the functions with two options warehouse or spcs runtime.\n",
    "https://docs.snowflake.com/en/developer-guide/snowflake-ml/model-registry/warehouse\n",
    "https://docs.snowflake.com/en/developer-guide/snowflake-ml/model-registry/container\n",
    "\n",
    "\n",
    "![How it works](https://docs.snowflake.com/en/_images/model-registry-spcs-deployment.png)"
   ]
  },
  {
   "cell_type": "markdown",
   "id": "59444af7-dc5f-4beb-97ba-8e12baee7073",
   "metadata": {
    "collapsed": false,
    "name": "cell60"
   },
   "source": "## Run Model on SPCS\n"
  },
  {
   "cell_type": "code",
   "id": "6d7515f1-a443-47c4-9b5c-996927ab4799",
   "metadata": {
    "language": "sql",
    "name": "cell2"
   },
   "outputs": [],
   "source": "CREATE IMAGE REPOSITORY IF NOT EXISTS my_inference_images;",
   "execution_count": null
  },
  {
   "cell_type": "markdown",
   "id": "d56fd5e5-1cbc-48cd-a375-4f3b8e71d4c6",
   "metadata": {
    "name": "cell1"
   },
   "source": []
  },
  {
   "cell_type": "code",
   "execution_count": null,
   "id": "e2348cbe-f180-4888-8659-331ecb873075",
   "metadata": {
    "codeCollapsed": false,
    "collapsed": true,
    "language": "python",
    "name": "create_ml_service"
   },
   "outputs": [],
   "source": "# mv is a snowflake.ml.model.ModelVersion object\n\nmv.create_service(service_name=\"myservice\",\n                  service_compute_pool=\"CPU_X64_S_1_3\",\n                  image_repo=\"DEFAULT_DATABASE.NOTEBOOKS.MY_INFERENCE_IMAGES\",\n                  ingress_enabled=True,\n                  gpu_requests=None)\n"
  },
  {
   "cell_type": "code",
   "execution_count": null,
   "id": "ce110000-1111-2222-3333-ffffff000022",
   "metadata": {
    "language": "python",
    "name": "call_function_on_service"
   },
   "outputs": [],
   "source": [
    "#call the deployed model’s predict function\n",
    "#reg_preds = mv.run(features_test_df, function_name = \"predict\").rename(col('\"output_feature_0\"'), service_name= \"myservice\", \"ACTIVITY_PREDICTION\")\n",
    "\n",
    "mv.run(\n",
    "    features_test_df,\n",
    "    function_name=\"predict\",\n",
    "    service_name=\"DEFAULT_DATABASE.NOTEBOOKS.MYSERVICE\")"
   ]
  },
  {
   "cell_type": "code",
   "execution_count": null,
   "id": "cf9f6d88-8384-4882-9602-d8ac23be4cbf",
   "metadata": {
    "language": "sql",
    "name": "view_sys_logs"
   },
   "outputs": [],
   "source": [
    "CALL SYSTEM$GET_SERVICE_LOGS('DEFAULT_DATABASE.NOTEBOOKS.MYSERVICE', '0', 'model-inference')\n"
   ]
  },
  {
   "cell_type": "code",
   "execution_count": null,
   "id": "28f12ad4-57f9-4898-914e-50cf013ffc5e",
   "metadata": {
    "language": "sql",
    "name": "drop_service"
   },
   "outputs": [],
   "source": [
    "DROP SERVICE DEFAULT_DATABASE.NOTEBOOKS.MYSERVICE;"
   ]
  }
 ]
}