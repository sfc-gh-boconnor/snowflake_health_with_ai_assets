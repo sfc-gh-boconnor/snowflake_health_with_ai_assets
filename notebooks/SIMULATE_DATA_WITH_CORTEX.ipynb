{
 "cells": [
  {
   "cell_type": "markdown",
   "id": "5f455435-4a14-481a-abe6-f8744ccaa661",
   "metadata": {
    "collapsed": false,
    "name": "Processing_GP_Docments"
   },
   "source": [
    "# SIMULATE DATA WITH CORTEX\n",
    "\n",
    "You will have already processed unstructured data with document AI.  We will use this plus some additional structured synthetic patient data to simulate further patient data.\n",
    "\n",
    "## 1. GATHER EXISTING SYTHETIC DATA\n",
    "The table below contains some high level information about synthetic people.  some of these people also has linked documents about them."
   ]
  },
  {
   "cell_type": "code",
   "execution_count": null,
   "id": "2fd26f1f-0c85-4424-b179-97322d19caa1",
   "metadata": {
    "language": "sql",
    "name": "use_sample_person_info"
   },
   "outputs": [],
   "source": [
    "SELECT * FROM DEFAULT_DATABASE.DEFAULT_SCHEMA.SAMPLE_PEOPLE_FOR_LAB"
   ]
  },
  {
   "cell_type": "markdown",
   "id": "4a5cfe43-f28e-4ba1-9b8d-11206893f9b2",
   "metadata": {
    "collapsed": false,
    "name": "generate_other_historic_date"
   },
   "source": [
    "## GENERATE OTHER HISTORIC DATA\n",
    "You will remember from the cortex playground that we have already seen you can use LLMs to provide synthetic data.  Let's now use this logic to get some more patient history.  We will assume that all this infomation is stored electronically"
   ]
  },
  {
   "cell_type": "code",
   "execution_count": null,
   "id": "b29b5b7d-a2a9-4439-9850-2b46d6ecd8bb",
   "metadata": {
    "language": "sql",
    "name": "create_fake_letters"
   },
   "outputs": [],
   "source": [
    "CREATE TABLE IF NOT EXISTS DEFAULT_SCHEMA.CONSULTANT_LETTERS as\n",
    "\n",
    "SELECT NHS_NUMBER, SNOWFLAKE.CORTEX.COMPLETE('claude-3-5-sonnet',\n",
    "\n",
    "CONCAT('write a recent letter using markdown for formatting purposes which includes bold, bullet points and paragraphs within the last three months from the patients consultant to their GP about a recent visit to the the consultant about their morbidity',\n",
    "            PERSON_INFO::text,\n",
    "            'Fill out any unknown details with synthetic ones.  Do not use placeholders')) LETTER from DEFAULT_DATABASE.DEFAULT_SCHEMA.SAMPLE_PEOPLE_FOR_LAB;\n",
    "\n",
    "SELECT * FROM DEFAULT_SCHEMA.CONSULTANT_LETTERS;"
   ]
  },
  {
   "cell_type": "markdown",
   "id": "555d4c4f-7f63-431e-952b-aba83574d8e5",
   "metadata": {
    "collapsed": false,
    "name": "heading_doc_browser"
   },
   "source": [
    "## USE PYTHON TO CREATE A DOCUMENT BROWSER\n",
    "The documents here are written in markdown for formatting and can be easily visualised using python."
   ]
  },
  {
   "cell_type": "code",
   "execution_count": null,
   "id": "b51836e2-5031-4f01-8a9f-52492684f9de",
   "metadata": {
    "language": "python",
    "name": "use_python_to_browse_through_docs"
   },
   "outputs": [],
   "source": [
    "import streamlit as st\n",
    "import pandas as pd\n",
    "from snowflake.snowpark.functions import *\n",
    "from snowflake.snowpark.types import *\n",
    "\n",
    "# We can also use Snowpark for our analyses!\n",
    "from snowflake.snowpark.context import get_active_session\n",
    "session = get_active_session()\n",
    "\n",
    "letters = session.table('DEFAULT_SCHEMA.CONSULTANT_LETTERS')\n",
    "\n",
    "NHS_NUMBER = letters.select('NHS_NUMBER')\n",
    "\n",
    "with st.container(height=1000):\n",
    "    st.markdown('### CONSULTANT LETTER')\n",
    "    S_NHS_NUMBER = st.selectbox('Choose NHS Number:',NHS_NUMBER)\n",
    "    st.markdown(letters.filter(col('NHS_NUMBER')==S_NHS_NUMBER).collect()[0][1])"
   ]
  },
  {
   "cell_type": "markdown",
   "id": "52805ae3-d94f-420c-8c9f-1bdd0a21258b",
   "metadata": {
    "collapsed": false,
    "name": "tite_historic_notes"
   },
   "source": [
    "## Generate Historic Notes\n",
    "\n",
    "the cortex functions work both with SQL and snowpark dataframes for python.  We will now use the same prompt which we tried in cortex playground to get synthetic fhir messages from an eletronic system."
   ]
  },
  {
   "cell_type": "code",
   "execution_count": null,
   "id": "9983ce9d-5fe1-4d88-8f43-90d99689eaec",
   "metadata": {
    "codeCollapsed": false,
    "language": "python",
    "name": "historic_electronic_records"
   },
   "outputs": [],
   "source": [
    "model = 'claude-3-5-sonnet'\n",
    "prompt = '''based on the following dataset, write a detailed synthetic longitudinal medical record which includes medications prescribed, \n",
    "when they were prescribed,any key events that have happened during the lifetime of the patient and please add made up detailed notes from the practitioner.  \n",
    "Use the data provided in the prompt as a guide for building the dataset, but make up any data that doesnt exist.  \n",
    "Use the dataset as a guide to make up the record. Dont include anything before 2004.  \n",
    "Return the results using FHIR standards in a nested json object.  ONLY INCLUDE JSON WITHOUT NOTES'''\n",
    "\n",
    "call_llm = call_function('snowflake.cortex.complete',model,concat(lit(prompt),col('PERSON_INFO').astype(StringType())))\n",
    "\n",
    "historic_electronic_data = session.table('DEFAULT_DATABASE.DEFAULT_SCHEMA.SAMPLE_PEOPLE_FOR_LAB').with_column('HISTORIC_NOTES',call_llm).drop('PERSON_INFO')\n",
    "\n",
    "#historic_electronic_data.write.mode('overwrite').save_as_table(\"DEFAULT_SCHEMA.HISTORIC_RECORD\")"
   ]
  },
  {
   "cell_type": "code",
   "execution_count": null,
   "id": "421bd0d5-facc-419e-95ea-4f73213aaa90",
   "metadata": {
    "language": "python",
    "name": "view_results"
   },
   "outputs": [],
   "source": [
    "notes = session.table('DEFAULT_DATABASE.DEFAULT_SCHEMA.HISTORIC_RECORD').with_column('HISTORIC_NOTES',parse_json('HISTORIC_NOTES'))\n",
    "notes"
   ]
  },
  {
   "cell_type": "markdown",
   "id": "0c88b460-b4d6-4c26-9ed8-30fbf9c3ee4f",
   "metadata": {
    "collapsed": false,
    "name": "detailed_activity_tables"
   },
   "source": [
    "## Create detailed patient activity tables\n",
    "Below you will create a new view of data for each Resouce Type "
   ]
  },
  {
   "cell_type": "code",
   "execution_count": null,
   "id": "2cdd0d12-eb01-4df6-972d-4d3a6d0a0fbe",
   "metadata": {
    "language": "python",
    "name": "flatten_Data"
   },
   "outputs": [],
   "source": [
    "flattened_notes = notes.join_table_function('flatten',col('HISTORIC_NOTES')['entry']).select('NHS_NUMBER',col('VALUE'))\n",
    "\n",
    "patient_details = flattened_notes.filter(col('VALUE')['resourceType']=='Patient').with_column_renamed('VALUE','PATIENT')\n",
    "patient_details.createOrReplaceView(\"DEFAULT_SCHEMA.V_PATIENT_DETAILS\")\n",
    "st.write(patient_details.limit(2))\n",
    "\n",
    "Condition = flattened_notes.filter(col('VALUE')['resourceType']=='Condition').with_column_renamed('VALUE','CONDITION')\n",
    "Condition.createOrReplaceView(\"DEFAULT_SCHEMA.V_PATIENT_CONDITIONS\")\n",
    "st.write(Condition.limit(2))\n",
    "\n",
    "MedicationStatement = flattened_notes.filter(col('VALUE')['resourceType']=='MedicationStatement').with_column_renamed('VALUE','MEDICATION')\n",
    "MedicationStatement.createOrReplaceView(\"DEFAULT_SCHEMA.V_PATIENT_MEDICATION\")\n",
    "st.write(MedicationStatement.limit(2))\n",
    "\n",
    "Encounter = flattened_notes.filter(col('VALUE')['resourceType']=='Encounter').with_column_renamed('VALUE','ENCOUNTER')\n",
    "Encounter.createOrReplaceView(\"DEFAULT_SCHEMA.V_ENCOUNTER\")\n",
    "st.write(Encounter.limit(2))"
   ]
  },
  {
   "cell_type": "markdown",
   "id": "33e97709-ec71-428d-9751-1ed742fb9780",
   "metadata": {
    "collapsed": false,
    "name": "title_summarize"
   },
   "source": [
    "## USING SUMMARIZE TO CREATE A SUMMARY OF THE MEDICAL INFORMATION"
   ]
  },
  {
   "cell_type": "code",
   "execution_count": null,
   "id": "786a6875-5cbc-4d76-a5f9-530154ea10ec",
   "metadata": {
    "language": "python",
    "name": "summarize_data"
   },
   "outputs": [],
   "source": [
    "summarized_notes = notes.with_column('SUMMARY',(call_function('SNOWFLAKE.CORTEX.SUMMARIZE',col('HISTORIC_NOTES'))))\n",
    "#summarized_notes.drop('HISTORIC_NOTES').write.mode('overwrite').save_as_table(\"DEFAULT_SCHEMA.ELECTRONIC_NOTES_SUMMARY\")\n",
    "\n",
    "session.table(\"DEFAULT_SCHEMA.ELECTRONIC_NOTES_SUMMARY\")"
   ]
  },
  {
   "cell_type": "markdown",
   "id": "39fc7225-8be8-4ed0-a193-72dc40e98031",
   "metadata": {
    "collapsed": false,
    "name": "heading_daily_obs"
   },
   "source": [
    "## CREATE DAILY OBSERVATIONS\n",
    "\n",
    "Here, we are going to create some time series data for medical observations.  We will do this for blood pressure."
   ]
  },
  {
   "cell_type": "code",
   "execution_count": null,
   "id": "42f31352-09b2-455a-bb21-13bed22210e9",
   "metadata": {
    "language": "sql",
    "name": "generate_rows_per_patient"
   },
   "outputs": [],
   "source": [
    "CREATE OR REPLACE VIEW DEFAULT_SCHEMA.V_GENERATE_OBSERVATION_DAYS AS\n",
    "\n",
    "select B.*,A.* FROM\n",
    "\n",
    "(\n",
    "SELECT \n",
    "  --SEQ4() AS id,\n",
    "  DATEADD(DAY, SEQ4(), DATE '2025-04-01') AS date\n",
    "FROM TABLE(GENERATOR(ROWCOUNT => 30))v\n",
    "ORDER BY date asc) A\n",
    "\n",
    "INNER JOIN DEFAULT_DATABASE.DEFAULT_SCHEMA.SAMPLE_PEOPLE_FOR_LAB B;\n",
    "\n",
    "SELECT * FROM DEFAULT_SCHEMA.V_GENERATE_OBSERVATION_DAYS"
   ]
  },
  {
   "cell_type": "markdown",
   "id": "75fab718-b54b-48e2-b4ce-58338a9beea4",
   "metadata": {
    "collapsed": false,
    "name": "prompt_engineering"
   },
   "source": [
    "Now blood pressure readings are generated for each person in the sample.  This can take around 20 minutes to run.  Here we are being a lot more specifific with the prompt engineering such as being specific about the FHIR standard to ensure consistancy accross all returned values.  You will note that i am helping the prompt by specifying the exact format we would like the results to be in.  This is based on a **FHIR** standard.  Once the data is retrieved, a streamlit browser is created to browse through the documents per day and per patient."
   ]
  },
  {
   "cell_type": "code",
   "execution_count": null,
   "id": "4de66e85-b46f-4129-be44-fe3a7e02aec4",
   "metadata": {
    "codeCollapsed": false,
    "collapsed": false,
    "language": "python",
    "name": "blood_pressure_readings"
   },
   "outputs": [],
   "source": [
    "model2 = 'claude-3-5-sonnet'\n",
    "\n",
    "prompt2 = '''based on the following synthetic patient trial dataset,''' \n",
    "\n",
    "prompt3 = '''write 6 synthetic random but appropiate blood pressure readings, with variances during the day.  \n",
    "Return the results by inserting each reading into an array using the provided json template. All data based on this date'''\n",
    "\n",
    "\n",
    "prompt4 = '''Include a blood pressure reading every 4 hours.\n",
    "ONLY INCLUDE JSON WITHOUT NOTES. DO NOT TRUNCATE THE RESULTS'''\n",
    "\n",
    "prompt5 = {\"component\": [\n",
    "          {\n",
    "            \"code\": {\n",
    "              \"coding\": [\n",
    "                {\n",
    "                  \"system\": \"http://loinc.org\",\n",
    "                  \"code\": \"8480-6\",\n",
    "                  \"display\": \"Systolic blood pressure\"\n",
    "                }\n",
    "              ]\n",
    "            },\n",
    "            \"valueQuantity\": {\n",
    "              \"value\": 138,\n",
    "              \"unit\": \"mmHg\"\n",
    "            }\n",
    "          },\n",
    "          {\n",
    "            \"code\": {\n",
    "              \"coding\": [\n",
    "                {\n",
    "                  \"system\": \"http://loinc.org\",\n",
    "                  \"code\": \"8462-4\",\n",
    "                  \"display\": \"Diastolic blood pressure\"\n",
    "                }\n",
    "              ]\n",
    "            },\n",
    "            \"valueQuantity\": {\n",
    "              \"value\": 88,\n",
    "              \"unit\": \"mmHg\"\n",
    "            }\n",
    "          }\n",
    "        ]\n",
    "      }\n",
    "\n",
    "\n",
    "call_llm = call_function('snowflake.cortex.complete',model2,concat(lit(prompt2),col('PERSON_INFO').astype(StringType()),\n",
    "                                                                   lit(prompt3),col('DATE').astype(StringType()),\n",
    "                                                                   lit('use the json provided as a template'),\n",
    "                                                                   lit(prompt5).astype(StringType()),\n",
    "                                                                  lit(prompt4)))\n",
    "\n",
    "blood_pressure = session.table('DEFAULT_DATABASE.DEFAULT_SCHEMA.V_GENERATE_OBSERVATION_DAYS').cache_result().with_column('BPRESSURE',call_llm).drop('PERSON_INFO')\n",
    "#blood_pressure.write.mode('overwrite').save_as_table(\"DEFAULT_SCHEMA.BLOOD_PRESSURE\")\n",
    "with st.container(height=500):\n",
    "    results = session.table('DEFAULT_SCHEMA.BLOOD_PRESSURE')\n",
    "    s_patient = st.selectbox('Choose Patient:',results.select('NHS_NUMBER').distinct())\n",
    "    results = results.filter(col('NHS_NUMBER')==s_patient)\n",
    "    s_date = st.select_slider('choose_date:',results.select('DATE').distinct().order_by('DATE'))\n",
    "    st.code(results.select('BPRESSURE').filter(col('DATE')==s_date).collect()[0][0])"
   ]
  },
  {
   "cell_type": "markdown",
   "id": "d7aa92d2-69f1-4271-8084-df7ec5fee6d5",
   "metadata": {
    "collapsed": false,
    "name": "heading_parse_prompt_results"
   },
   "source": [
    "### USING SEMI STRUCTURED NOTATION TO FORMAT THE RESULTS IN A TABLE"
   ]
  },
  {
   "cell_type": "code",
   "execution_count": null,
   "id": "de11ee3a-c35e-4ccc-80fb-625981a88222",
   "metadata": {
    "language": "sql",
    "name": "create_view_from_fhir_results"
   },
   "outputs": [],
   "source": [
    "CREATE OR REPLACE VIEW DEFAULT_SCHEMA.V_BLOOD_PRESSURE_VALUES AS\n",
    "select A.* EXCLUDE BPRESSURE, \n",
    "REPLACE(VALUE:effectiveDateTime::text,'T24','T00')::DATETIME \"DATE_TIME\",\n",
    "VALUE:component[0]:valueQuantity:value::integer Systolic_blood_pressure,\n",
    "VALUE:component[1]:valueQuantity:value::integer Diastolic_blood_pressure\n",
    "from DEFAULT_SCHEMA.BLOOD_PRESSURE A, \n",
    "lateral flatten (PARSE_JSON(BPRESSURE)) B;\n",
    "\n",
    "SELECT * FROM DEFAULT_SCHEMA.V_BLOOD_PRESSURE_VALUES"
   ]
  },
  {
   "cell_type": "markdown",
   "id": "58d415f0-dbbd-49b6-8c3d-54505fa5a593",
   "metadata": {
    "collapsed": false,
    "name": "blood_pressure_obs"
   },
   "source": [
    "### VISUALISING THE BLOOD PRESSURE OBSERVATIONS USING STREAMLIT"
   ]
  },
  {
   "cell_type": "code",
   "execution_count": null,
   "id": "a2af07bf-afb1-4426-9f50-24daae99f6de",
   "metadata": {
    "language": "python",
    "name": "blood_pressure_analysis"
   },
   "outputs": [],
   "source": [
    "bpressure = session.table('DEFAULT_DATABASE.DEFAULT_SCHEMA.V_BLOOD_PRESSURE_VALUES')\n",
    "bpressure1 = bpressure.filter(col('NHS_NUMBER')=='0053634643')\\\n",
    "\n",
    "bpressure_S = bpressure1.group_by('DATE').agg(max('Systolic_blood_pressure').alias('MAXSBP'),\n",
    "                                                             min('Systolic_blood_pressure').alias('MINSBP'))\n",
    "\n",
    "st.line_chart(bpressure_S,x='DATE',y='MAXSBP')\n",
    "st.line_chart(bpressure_S,x='DATE',y='MINSBP')\n",
    "st.line_chart(bpressure1,x='DATE_TIME',y='SYSTOLIC_BLOOD_PRESSURE')"
   ]
  },
  {
   "cell_type": "markdown",
   "id": "493c783c-50e4-4a65-aae8-758f68ea0a4b",
   "metadata": {
    "collapsed": false,
    "name": "heading_additonal_data"
   },
   "source": [
    "### CREATE ADDITIONAL SUPPORTING DATA\n",
    "\n",
    "Let's now focus on the two patients that we used in the document AI GP notes example"
   ]
  },
  {
   "cell_type": "markdown",
   "id": "433861fe-03e7-4aaf-98ad-f9fcc7008e2b",
   "metadata": {
    "collapsed": false,
    "name": "create_synthetic_data_for_document_ai_patients"
   },
   "source": [
    "Here, the two patients which we have documents for from document ai, we are also going to have additional supporting data which can  be used for a patient dashboard."
   ]
  },
  {
   "cell_type": "code",
   "execution_count": null,
   "id": "11b83b6c-20bb-4e33-a74c-65c86a33d4c7",
   "metadata": {
    "language": "sql",
    "name": "covid_trial_diagnostics"
   },
   "outputs": [],
   "source": [
    "CREATE TABLE IF NOT EXISTS DEFAULT_SCHEMA.COVID_TRIAL_DIAGNOSTICS AS\n",
    "\n",
    "SELECT DISTINCT NHS_NUMBER,\n",
    "\n",
    "ARRAY_AGG(OBJECT_CONSTRUCT(*)) PATIENT_DATA,\n",
    "\n",
    "SNOWFLAKE.CORTEX.COMPLETE('mistral-large2',CONCAT('''Create a fake ecg report over a 24 hour period taking this data into account''',PATIENT_DATA::TEXT))ECG,\n",
    "SNOWFLAKE.CORTEX.COMPLETE('mistral-large2',CONCAT('''Create a fake mri brain scan report taking this data into account''',PATIENT_DATA::TEXT))MRI,\n",
    "SNOWFLAKE.CORTEX.COMPLETE('mistral-large2',CONCAT('''Create a fake lung function test report taking this data into account''',PATIENT_DATA::TEXT))LUNG_FUNCTION\n",
    "\n",
    "FROM DEFAULT_SCHEMA.GP_NOTES_CLEANED GROUP BY ALL;\n",
    "\n",
    "select * from DEFAULT_SCHEMA.COVID_TRIAL_DIAGNOSTICS"
   ]
  },
  {
   "cell_type": "markdown",
   "id": "4509d1d9-8f0e-4f3c-ad63-c67811fcef52",
   "metadata": {
    "collapsed": false,
    "name": "explain_bp_readings"
   },
   "source": [
    "Let's now use Cortex Complete to explain the blood pressure readings of the same two patients"
   ]
  },
  {
   "cell_type": "code",
   "execution_count": null,
   "id": "d4fcec1b-abfa-4b42-8167-faece924a068",
   "metadata": {
    "language": "sql",
    "name": "view_additional_details"
   },
   "outputs": [],
   "source": [
    "SELECT * FROM DEFAULT_DATABASE.DEFAULT_SCHEMA.ELECTRONIC_NOTES_SUMMARY A \n",
    "\n",
    "NATURAL JOIN DEFAULT_SCHEMA.COVID_TRIAL_DIAGNOSTICS B \n"
   ]
  },
  {
   "cell_type": "markdown",
   "id": "a6e712b2-3c22-4ca5-b7ad-724874c863bf",
   "metadata": {
    "collapsed": false,
    "name": "cell1"
   },
   "source": [
    "## Combine all unstructured data and create a Patient Search Service.  \n",
    "As the data is relatively short, we will not chunk it this time, we will create a search service on these patients '**as-is**'."
   ]
  },
  {
   "cell_type": "code",
   "execution_count": null,
   "id": "cf205d0e-412e-43f6-a89c-e86da081a710",
   "metadata": {
    "language": "sql",
    "name": "combine_info_for_search_service"
   },
   "outputs": [],
   "source": [
    "CREATE OR REPLACE TABLE DEFAULT_SCHEMA.PATIENT_DATA_SEARCH_SERVICE AS \n",
    "SELECT NHS_NUMBER,'SUMMARY' INFORMATION_TYPE, SUMMARY TEXT FROM DEFAULT_SCHEMA.ELECTRONIC_NOTES_SUMMARY\n",
    "\n",
    "UNION\n",
    "\n",
    "SELECT NHS_NUMBER, 'SUMMARY' INFORMATION_TYPE,PATIENT_DATA::TEXT TEXT FROM DEFAULT_SCHEMA.COVID_TRIAL_DIAGNOSTICS \n",
    "UNION\n",
    "SELECT NHS_NUMBER, 'ECG' INFORMATION_TYPE,ECG TEXT FROM DEFAULT_SCHEMA.COVID_TRIAL_DIAGNOSTICS\n",
    "UNION\n",
    "SELECT NHS_NUMBER, 'MRI' INFORMATION_TYPE, MRI TEXT FROM DEFAULT_SCHEMA.COVID_TRIAL_DIAGNOSTICS\n",
    "UNION\n",
    "SELECT NHS_NUMBER, 'GP_NOTES' INFORMATION_TYPE, ARRAY_AGG(OBJECT_CONSTRUCT('APPOINTMENT DATE',APPOINTMENT_DATE,'GP NOTES',GP_NOTES,'PRESCRIPTION',PRESCRIPTION))::TEXT TEXT FROM DEFAULT_SCHEMA.GP_NOTES_CLEANED GROUP BY ALL\n"
   ]
  },
  {
   "cell_type": "code",
   "execution_count": null,
   "id": "3bc6029c-e12f-49da-823f-bfaf4356f301",
   "metadata": {
    "language": "sql",
    "name": "search_service_patient_Data"
   },
   "outputs": [],
   "source": [
    "CREATE OR REPLACE  CORTEX SEARCH SERVICE DEFAULT_SCHEMA.PATIENT_DATA\n",
    "  ON TEXT\n",
    "  ATTRIBUTES NHS_NUMBER,INFORMATION_TYPE\n",
    "  WAREHOUSE = DEFAULT_WH\n",
    "  TARGET_LAG = '1 hour'\n",
    "  COMMENT = 'SEARCH SERVICE FOR PATIENT DATA'\n",
    "  AS SELECT * FROM DEFAULT_SCHEMA.PATIENT_DATA_SEARCH_SERVICE;"
   ]
  }
 ],
 "metadata": {
  "kernelspec": {
   "display_name": "Streamlit Notebook",
   "name": "streamlit"
  },
  "lastEditStatus": {
   "authorEmail": "",
   "authorId": "9025212424216",
   "authorName": "USER",
   "lastEditTime": 1744709598839,
   "notebookId": "ru4oqp7dpxqngvjygs5v",
   "sessionId": "66f9bb25-9d5c-4b16-a1dc-e970f284d6dc"
  }
 },
 "nbformat": 4,
 "nbformat_minor": 5
}
