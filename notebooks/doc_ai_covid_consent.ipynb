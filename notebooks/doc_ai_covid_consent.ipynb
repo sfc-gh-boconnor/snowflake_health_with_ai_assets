{
 "metadata": {
  "kernelspec": {
   "display_name": "Streamlit Notebook",
   "name": "streamlit"
  }
 },
 "nbformat_minor": 5,
 "nbformat": 4,
 "cells": [
  {
   "cell_type": "markdown",
   "id": "3775908f-ca36-4846-8f38-5adca39217f2",
   "metadata": {
    "name": "heading1",
    "collapsed": false
   },
   "source": "# Covid-19 Vaccine Consent forms :scientist:\nBuilding a data Engineering Pipeline using DocumentAI :snowflake:\n\nNow that our business user has leveraged the low-code UI of DocumentAI to define what ingihts we are looking to extract and has ensured that the insights extracted are correct let's build our data engineering pipeline\n"
  },
  {
   "cell_type": "markdown",
   "id": "129e24d4-16f5-4732-ac40-141cdaedee8d",
   "metadata": {
    "name": "heading2",
    "collapsed": false
   },
   "source": "# Extracting insights from multiple documents in stage"
  },
  {
   "cell_type": "markdown",
   "id": "da9d71cd-3a1a-4a9a-bbaf-ab7c0e177f9d",
   "metadata": {
    "name": "cell1",
    "collapsed": false
   },
   "source": "## 🪣 What documents do we need to process? 🪣"
  },
  {
   "cell_type": "code",
   "id": "8d50cbf4-0c8d-4950-86cb-114990437ac9",
   "metadata": {
    "language": "sql",
    "name": "directory",
    "collapsed": false
   },
   "source": "-- looking at the documents we have in our stage\nSELECT * FROM DIRECTORY(@COVID_VACCINATION);",
   "execution_count": null,
   "outputs": []
  },
  {
   "cell_type": "markdown",
   "id": "4f298b58-658b-443f-87e2-0eec7bc41096",
   "metadata": {
    "name": "create_table",
    "collapsed": false
   },
   "source": "### ✨ Creating a raw table for extracted data via the **predict** model (**COVID_VACCINATION_CONSENT_FORM**) ✨"
  },
  {
   "cell_type": "code",
   "id": "de63ac2d-7ef8-4733-9e58-43128a65d932",
   "metadata": {
    "language": "sql",
    "name": "RAW_Table",
    "collapsed": false
   },
   "outputs": [],
   "source": "-----CREATE A RAW TABLE WITH THE Covid-19 vaccination consent data\nCREATE OR REPLACE TABLE RAW_COVID_VACCINE_CONSENT AS \nSELECT  \nGET_PRESIGNED_URL(@COVID_VACCINATION, RELATIVE_PATH) DOC_URL, SIZE, LAST_MODIFIED,\nHEALTH_DB.PUBLIC.COVID_VACCINATION_CONSENT_FORM!PREDICT(DOC_URL,3) DOC_META ,RELATIVE_PATH\nFROM (select * from DIRECTORY (@COVID_VACCINATION));\n",
   "execution_count": null
  },
  {
   "cell_type": "code",
   "id": "04b3b19c-b2a3-40ac-9943-24fc732cbaf4",
   "metadata": {
    "language": "sql",
    "name": "select_from_table",
    "collapsed": false
   },
   "outputs": [],
   "source": "SELECT * FROM RAW_COVID_VACCINE_CONSENT;",
   "execution_count": null
  },
  {
   "cell_type": "markdown",
   "id": "3f4ae560-848f-4c89-9df3-287bdecbafb0",
   "metadata": {
    "name": "heading",
    "collapsed": false
   },
   "source": "### Flattening out the data and creating a structured table"
  },
  {
   "cell_type": "code",
   "id": "c695373e-ac74-4b62-a1f1-08206cbd5c81",
   "metadata": {
    "language": "sql",
    "name": "Structured_table",
    "collapsed": false
   },
   "source": "--- Create a table for the processed information\nCREATE OR REPLACE VIEW HEALTH_DB.PUBLIC.COVID_VACCINE_CONSENTS AS \nSELECT DOC_META,\nDOC_META:CHILDBEARING_F[0]:value::text \"Female Patient Childbearing Age (Y/N)\"\n,DOC_META:CONSENT[0]:value::text \"CONSENT (Y/N)\" \n,DOC_META:DATE_BIRTH[0]:value::text \" Date of Birth\"\n,DOC_META:GENDER[0]:value::text \"Gender\"\n,DOC_META:GP_NAME[0]:value::text \"Name of Surgery\"\n,DOC_META:INJECTION[0]:value::text \"Injection Arm\"\n,DOC_META:NHS_NUMBER[0]:value::text \"NHS Number\"\n,DOC_META:PATIENT_NAME[0]:value::text \"Patient Name\"\n,DOC_META:REASON[0]:value::text \"Reason for no vaccine\"\n,relative_path\nFROM RAW_COVID_VACCINE_CONSENT;\n\n-- checking the table\nSELECT * FROM COVID_VACCINE_CONSENTS;",
   "execution_count": null,
   "outputs": []
  },
  {
   "cell_type": "markdown",
   "id": "e61693d2-30bd-4c8b-bc88-04835d47c85e",
   "metadata": {
    "name": "task_heading",
    "collapsed": false
   },
   "source": "### 🔄🔄 Use a task to automatically update the table with new rows as more documents come in 🔄🔄"
  },
  {
   "cell_type": "code",
   "id": "8715e934-26c4-4536-8dba-94b86feb8958",
   "metadata": {
    "language": "sql",
    "name": "CREATE_TASK"
   },
   "outputs": [],
   "source": "CREATE OR REPLACE TASK load_new_file_data\n  WAREHOUSE = DOC_AI_WH\n  SCHEDULE = '1 minute'\n  COMMENT = 'Process new files in the stage and insert data into the pdf_reviews table.'\nWHEN SYSTEM$STREAM_HAS_DATA('my_pdf_stream')\nAS\nINSERT INTO VACCINE_CONSENT (\n  SELECT  \n    GET_PRESIGNED_URL(@COVID_VACCINATION, RELATIVE_PATH) DOC_URL, \n    HEALTH_DB.PUBLIC.COVID_VACCINATION_CONSENT_FORM!PREDICT(DOC_URL,3) DOC_META ,RELATIVE_PATH\n    FROM (select * from DIRECTORY (@COVID_VACCINATION))\n    WHERE METADATA$ACTION = 'INSERT'\n);",
   "execution_count": null
  },
  {
   "cell_type": "markdown",
   "id": "ce24c9ce-d08d-47be-accd-c28caee5387a",
   "metadata": {
    "name": "heading4",
    "collapsed": false
   },
   "source": "# Preparing data for Streamlit App :page_with_curl:\n\nThe purpose of the streamlit application is for the business user to be able to review any documents that have extracted values with the confidence value below defined tolerence levels"
  },
  {
   "cell_type": "code",
   "id": "918e7f12-121d-4e87-a946-61ba2e35a704",
   "metadata": {
    "language": "sql",
    "name": "Table_OCR_score",
    "collapsed": false
   },
   "outputs": [],
   "source": "-- Create a table with all values and scores\nCREATE OR REPLACE VIEW health_db.public.covid_ocr_score2\nAS\nWITH \n-- First part gets the result from applying the model on the pdf documents as a JSON with additional metadata\ntemp as(\n    SELECT * FROM RAW_COVID_VACCINE_CONSENT\n    \n)\n-- Second part extract the values and the scores from the JSON into columns\nSELECT\n\nRELATIVE_PATH AS file_name\n, SIZE AS file_size\n, last_modified\n, GET_PRESIGNED_URL(@COVID_VACCINATION, RELATIVE_PATH) snowflake_file_url\n, DOC_META AS JSON\n, json:__documentMetadata.ocrScore::FLOAT AS ocrScore\n, json:CHILDBEARING_F[0]:value::STRING as Female_Patient_Childbearing\n, json:CHILDBEARING_F[0]:score::FLOAT AS CHILDBEARING_F_score\n, json:CONSENT[0]:value::STRING as CONSENT\n, json:CONSENT[0]:score::FLOAT AS CONSENT_score\n, json:DATE_BIRTH[0]:value::STRING as DATE_BIRTH\n, json:DATE_BIRTH[0]:score::FLOAT AS DATE_BIRTH_score\n, json:GENDER[0]:value::STRING as GENDER\n, json:GENDER[0]:score::FLOAT AS GENDER_score\n, json:GP_NAME[0]:value::STRING as GP_NAME\n, json:GP_NAME[0]:score::FLOAT AS GP_NAME_score\n, json:INJECTION[0]:value::STRING as INJECTION\n, json:INJECTION[0]:score::FLOAT AS INJECTION_score\n, json:NHS_NUMBER[0]:value::STRING as NHS_NUMBER\n, json:NHS_NUMBER[0]:score::FLOAT AS NHS_NUMBER_score\n, json:PATIENT_NAME[0]:value::STRING as PATIENT_NAME\n, json:PATIENT_NAME[0]:score::FLOAT AS PATIENT_NAME_score\n, json:REASON[0]:value::STRING as REASON\n, json:REASON[0]:score::FLOAT AS REASON_score\nFROM temp;",
   "execution_count": null
  },
  {
   "cell_type": "code",
   "id": "b8677462-69eb-4c28-9fd8-2200dec16d1d",
   "metadata": {
    "language": "python",
    "name": "STREAMLIT",
    "collapsed": false
   },
   "outputs": [],
   "source": "from snowflake.snowpark.context import get_active_session\nimport streamlit as st\nsession = get_active_session()\ntable = session.table('health_db.public.covid_ocr_score2')\n\nst.markdown('### DATA QUALITY SCORES')\ncol1,col2,col3,col4 = st.columns(4)\nwith col1:\n    st.markdown('INJECTION')\n    st.bar_chart(table, y='INJECTION_SCORE',x='FILE_NAME', color='#fc8702')\nwith col2:\n    st.markdown('GP NAME')\n    st.bar_chart(table, y='GP_NAME_SCORE',x='FILE_NAME', color='#7bcbff')\nwith col3:\n    st.markdown('GENDER')\n    st.bar_chart(table, y='GENDER_SCORE',x='FILE_NAME', color ='#ba78e5')\n\nwith col4:\n    st.markdown('REASON')\n    st.bar_chart(table, y='REASON_SCORE',x='FILE_NAME', color='#fc8702')\n\ncol1,col2,col3,col4 = st.columns(4)\nwith col1:\n    st.markdown('NHS NUMBER')\n    st.bar_chart(table, y='NHS_NUMBER_SCORE',x='FILE_NAME', color='#7bcbff')\nwith col2:\n    st.markdown('PATIENT NAME')\n    st.bar_chart(table, y='PATIENT_NAME_SCORE',x='FILE_NAME', color ='#ba78e5')\n\nwith col3:\n    st.markdown('DATE OF BIRTH')\n    st.bar_chart(table, y='DATE_BIRTH_SCORE',x='FILE_NAME', color='#7bcbff')\nwith col4:\n    st.markdown('CONSENT')\n    st.bar_chart(table, y='CONSENT_SCORE',x='FILE_NAME', color ='#ba78e5')",
   "execution_count": null
  }
 ]
}