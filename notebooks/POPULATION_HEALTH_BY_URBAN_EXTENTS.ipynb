{
 "cells": [
  {
   "cell_type": "markdown",
   "id": "e7eaec71-9424-4195-9d39-8de63fb94cde",
   "metadata": {
    "collapsed": false,
    "name": "heading"
   },
   "source": [
    "# POPULATION HEALTH BY URBAN EXTENTS\n",
    "We have been having a look at population health based on synthetic data.  Let's now look at visualising this information using a streamlit python application.  The urban extent boundaries are available in the Snowflake Market Place - you will have access to this if you completed the previous step"
   ]
  },
  {
   "cell_type": "code",
   "execution_count": null,
   "id": "3775908f-ca36-4846-8f38-5adca39217f2",
   "metadata": {
    "language": "python",
    "name": "import_libaries"
   },
   "outputs": [],
   "source": [
    "# Import python packages\n",
    "import streamlit as st\n",
    "import pandas as pd\n",
    "from snowflake.snowpark.functions import *\n",
    "from snowflake.snowpark.types import *\n",
    "import pydeck as pdk\n",
    "\n",
    "# We can also use Snowpark for our analyses!\n",
    "from snowflake.snowpark.context import get_active_session\n",
    "session = get_active_session()\n"
   ]
  },
  {
   "cell_type": "markdown",
   "id": "f628caf8-9041-4fdb-af26-a1fac46e3dc6",
   "metadata": {
    "collapsed": false,
    "name": "heading_curation"
   },
   "source": [
    "## Curating the data"
   ]
  },
  {
   "cell_type": "markdown",
   "id": "667a559c-ea36-4fa3-951a-b052022d67be",
   "metadata": {
    "collapsed": false,
    "name": "instructions_data_selection"
   },
   "source": [
    "Frstly let's get the data we used before - we are going to focus on the location, the Gender, the body weight and finally each morbidity."
   ]
  },
  {
   "cell_type": "code",
   "execution_count": null,
   "id": "734f85b2-79f7-47a7-887a-8e2d536abd11",
   "metadata": {
    "language": "python",
    "name": "get_pop_health_dataset"
   },
   "outputs": [],
   "source": [
    "population_health = session.table('DEFAULT_DATABASE.DEFAULT_SCHEMA.SYNTHETIC_POPULATION')\n",
    "\n",
    "population_health = population_health.select('BODY_WEIGHT','SEX','LAT','LON','CANCER','DIABETES','COPD','ASTHMA','HYPERTENSION')\n"
   ]
  },
  {
   "cell_type": "markdown",
   "id": "69f0366d-9786-4143-b047-227def9a24e0",
   "metadata": {
    "collapsed": false,
    "name": "heading_h3"
   },
   "source": [
    "We will now bucket all the locations into **H3 indexes** which we did in the previoius excercise.  Next, a new table is created called **POPULATION_HEALTH_H3**.  "
   ]
  },
  {
   "cell_type": "code",
   "execution_count": null,
   "id": "aeb21e44-8c96-4c87-b879-d0ce28383607",
   "metadata": {
    "language": "python",
    "name": "h3_population"
   },
   "outputs": [],
   "source": [
    "population_h3 = population_health.group_by(call_function('H3_LATLNG_TO_CELL_STRING',col('LAT'),\n",
    "                                         col('LON'),8).alias('H3'),\n",
    "                           'BODY_WEIGHT',\n",
    "                           'SEX').agg(count('*').alias('TOTAL_POPULATION')\n",
    "                                      ,sum('CANCER').alias('CANCER'),\n",
    "                                      sum('DIABETES').alias('DIABETES'),\n",
    "                                      sum('COPD').alias('COPD'),\n",
    "                                      sum('ASTHMA').alias('ASTHMA'),\n",
    "                                      sum('HYPERTENSION').alias('HYPERTENSION'),\n",
    "                                      avg('LAT').alias('LAT'),\n",
    "                                      avg('LON').alias('LON'))\n",
    "\n",
    "population_h3.write.mode('overwrite').save_as_table(\"DEFAULT_SCHEMA.POPULATION_HEALTH_H3\")\n",
    "\n",
    "population_h3 = session.table('DEFAULT_SCHEMA.POPULATION_HEALTH_H3')\n",
    "population_h3"
   ]
  },
  {
   "cell_type": "markdown",
   "id": "d702b0c6-a753-4dd2-a1b1-bbb77467c864",
   "metadata": {
    "collapsed": false,
    "name": "heading_datashare"
   },
   "source": [
    "Now lets look at the built up urban areas from the datashare.  You will note that selecting the shared dataset is the same as any other table"
   ]
  },
  {
   "cell_type": "code",
   "execution_count": null,
   "id": "d0713d78-5e59-477f-8315-58fd3cc0b5dc",
   "metadata": {
    "language": "python",
    "name": "datashare"
   },
   "outputs": [],
   "source": [
    "built_up_areas = session.table('URBAN_EXTENTS_FOR_CITIES_TOWNS_AND_VILLAGES__GREAT_BRITAIN_OPEN_BUILT_UP_AREAS.PRS_OPEN_BUILT_UP_AREAS_SCH.PRS_OPEN_BUILT_UP_AREAS_TBL')\n",
    "built_up_areas.limit(5)"
   ]
  },
  {
   "cell_type": "markdown",
   "id": "ef852b5d-beee-4b64-b753-d27b3b4f9fa0",
   "metadata": {
    "collapsed": false,
    "name": "heading_coverage"
   },
   "source": [
    "Next we need to join the two datasets together.  we need to join by the H3 index code.  Therefore, we need to split out all the towns by the same H3 index number.  You can use the function **H3_COVERAGE_STRINGS** for this"
   ]
  },
  {
   "cell_type": "code",
   "execution_count": null,
   "id": "33705d3e-d7e2-4669-90c0-9e8ba1e79eec",
   "metadata": {
    "language": "python",
    "name": "coverage_built_up"
   },
   "outputs": [],
   "source": [
    "coverage = built_up_areas.select('GSSCODE','NAME1_TEXT',call_function('H3_COVERAGE_STRINGS',col('GEOGRAPHY'),8).alias('H3')).cache_result()\n",
    "\n",
    "coverage.limit(10)"
   ]
  },
  {
   "cell_type": "markdown",
   "id": "77e65a5d-7e13-49e7-9878-255d61162afa",
   "metadata": {
    "collapsed": false,
    "name": "flattening_by_coverage"
   },
   "source": [
    "You will note that there are multiple coverage strings per row.  In order to join with the population dataset, we will need to 'flatten' the table so you have one H3 index per row. The function we are using is a **table function** called **flatten**. We Flatten on the column H3.  We will then select the result which is returned as **VALUE** as well as all the original columns.  We will only select **GSSCODE** and **NAME1_TEXT**.  The Value Column is renamed as **H3**."
   ]
  },
  {
   "cell_type": "code",
   "execution_count": null,
   "id": "7443790f-6790-4ebd-ae28-4b7bfc4a2d32",
   "metadata": {
    "language": "python",
    "name": "flatten_coverage"
   },
   "outputs": [],
   "source": [
    "coverage_flattened = coverage.join_table_function('flatten','H3').select('GSSCODE',\n",
    "                                                                         'NAME1_TEXT',\n",
    "                                                                         col('VALUE').astype(StringType()).alias('H3'))\n",
    "\n",
    "coverage_flattened.write.mode('overwrite').save_as_table(\"DEFAULT_SCHEMA.EXTENTS_WITH_H3\")\n",
    "coverage_flattened = session.table('DEFAULT_SCHEMA.EXTENTS_WITH_H3')\n",
    "coverage_flattened"
   ]
  },
  {
   "cell_type": "markdown",
   "id": "1c1c61a9-27da-4fc2-8a52-e8503318fec6",
   "metadata": {
    "collapsed": false,
    "name": "population_heading_area"
   },
   "source": [
    "Joining to the Population table should now be really easy as you have a a H3 column in the new areas dataframe and a H3 column in the population health table.  You will use the **join** function, then you choose the column to join onto.  The default type of join is an **inner join**, you can change this which will show all the areas that does not have a population."
   ]
  },
  {
   "cell_type": "code",
   "execution_count": null,
   "id": "c7c1a2fe-fb7a-4148-b59c-9dac7abe5642",
   "metadata": {
    "language": "python",
    "name": "pop_by_area"
   },
   "outputs": [],
   "source": [
    "population_by_area = coverage_flattened.join(population_h3,'H3','inner')\n",
    "population_by_area"
   ]
  },
  {
   "cell_type": "markdown",
   "id": "4b751de9-422a-4197-bc0b-c45f356b0970",
   "metadata": {
    "collapsed": false,
    "name": "visualise_data"
   },
   "source": [
    "## Visualising the data\n",
    "\n",
    "\n",
    "### Creating Filters\n",
    "\n",
    "Firstly, let's create a filters to the dataset.  It would be good to filter by urban name, body weight and sex.  This is where we create streamlit components.  We will create three drop downlists.  I have nested it inside a container with a pre defined height and chose to create the drop down lists in 3 columns.\n",
    "\n",
    "Each select box is populated with distinct values from the newly created dataframe.\n",
    "\n",
    "Next, we will filter the dataframe based on these select boxes using the **filter** function.  This actually translates to the **WHERE** clause in SQL"
   ]
  },
  {
   "cell_type": "code",
   "execution_count": null,
   "id": "f206556b-5ed1-4e3d-8f86-1da1b01ff2e1",
   "metadata": {
    "language": "python",
    "name": "select_boxes"
   },
   "outputs": [],
   "source": [
    "with st.container(height=400):\n",
    "    st.title('POPULATION HEALTH BY URBAN AREA')\n",
    "    col1,col2,col3 = st.columns(3)\n",
    "    with col1:\n",
    "        urban_area = st.selectbox('Select Urban Area:', population_by_area.select('NAME1_TEXT').distinct())\n",
    "    with col2:\n",
    "        body_weight = st.selectbox('Select Body Weight:', population_by_area.select('BODY_WEIGHT').distinct())\n",
    "    with col3:\n",
    "        SEX = st.selectbox('Select Gender:', population_by_area.select('SEX').distinct())\n",
    "\n",
    "    df = population_by_area.filter((col('SEX')==SEX)&\n",
    "                                  (col('BODY_WEIGHT')==body_weight)&\n",
    "                                (col('NAME1_TEXT')==urban_area))\n",
    "    st.dataframe(df)\n",
    "    \n"
   ]
  },
  {
   "cell_type": "markdown",
   "id": "267f382b-2903-4944-9da8-7241d1f3abb1",
   "metadata": {
    "collapsed": false,
    "name": "create_metrics"
   },
   "source": [
    "### Create Metrics\n",
    "Now we have fitered to the right areas, let's now summarize the results and create metrics.  Again, used the columns to lay out all the metrics accross the page"
   ]
  },
  {
   "cell_type": "code",
   "execution_count": null,
   "id": "82daff11-f965-4659-9be4-0b3396a509f6",
   "metadata": {
    "language": "python",
    "name": "cell1"
   },
   "outputs": [],
   "source": [
    "pop_metrics = df.agg(sum('TOTAL_POPULATION').alias('TOTAL_POPULATION'),\n",
    "      sum('CANCER').alias('CANCER'),\n",
    "      sum('DIABETES').alias('DIABETES'),\n",
    "      sum('COPD').alias('COPD'),\n",
    "      sum('ASTHMA').alias('ASTHMA'),\n",
    "      sum('HYPERTENSION').alias('HYPERTENSION')).to_pandas()\n",
    "\n",
    "col1,col2,col3,col4,col5,col6 = st.columns(6)\n",
    "with col1:\n",
    "    st.metric('Total Population',pop_metrics.TOTAL_POPULATION)\n",
    "with col2:\n",
    "    st.metric('Cancer Sufferers',pop_metrics.CANCER)\n",
    "with col3:\n",
    "    st.metric('Diabetics',pop_metrics.DIABETES)\n",
    "with col4:\n",
    "    st.metric('COPD Sufferers',pop_metrics.COPD)\n",
    "with col5:\n",
    "    st.metric('Asthmatics',pop_metrics.ASTHMA)\n",
    "with col6:\n",
    "    st.metric('Hypertension', pop_metrics.HYPERTENSION)"
   ]
  },
  {
   "cell_type": "markdown",
   "id": "9e0943f6-2568-4d4b-b2c7-72528901756d",
   "metadata": {
    "collapsed": false,
    "name": "create_map"
   },
   "source": [
    "### Creating a map\n",
    "\n",
    "You will be creating a H3 map to visualise the hexagons which can filter by each extent area.  NB the color is in RGB format, you will need to manipulate the RGB based on the fields in the data.  This example is using the total population field.  Further calculations might need to be considered to have further control of how the colours are presented."
   ]
  },
  {
   "cell_type": "code",
   "execution_count": null,
   "id": "8c107336-b4fd-4e70-a248-a61f4f9c56ea",
   "metadata": {
    "language": "python",
    "name": "visualise_h3"
   },
   "outputs": [],
   "source": [
    "center = df.agg(avg('LAT'),avg('LON')).collect()\n",
    "\n",
    "LAT = center[0][0]\n",
    "LON = center[0][1]\n",
    "\n",
    "layer = pdk.Layer(\n",
    "    \"H3HexagonLayer\",\n",
    "    df.to_pandas(),\n",
    "    pickable=True,\n",
    "    stroked=True,\n",
    "    filled=True,\n",
    "    extruded=False,\n",
    "    get_hexagon=\"H3\",\n",
    "    get_fill_color=\"[255 - TOTAL_POPULATION, 255-TOTAL_POPULATION, 255]\",\n",
    "    get_line_color=[1, 1, 1],\n",
    "    line_width_min_pixels=1,\n",
    ")\n",
    "view_state = pdk.ViewState(latitude=LAT, longitude=LON, zoom=12, bearing=0, pitch=0)\n",
    "r = pdk.Deck(map_style=None,layers=[layer], initial_view_state=view_state, \n",
    "             tooltip={\"html\": \"Total Population: {TOTAL_POPULATION}<BR>\\\n",
    "                                Total Cancer: {CANCER}<BR>\\\n",
    "                                Total Diabetes: {DIABETES}<BR>\\\n",
    "                                Total COPD: {COPD}<BR>\\\n",
    "                                Total Hypertension {HYPERTENSION}\"})\n",
    "\n",
    "st.pydeck_chart(r)"
   ]
  },
  {
   "cell_type": "markdown",
   "id": "f1a53eae-9a77-41a0-940c-538d16f289bc",
   "metadata": {
    "collapsed": false,
    "name": "switch_to_streamlit"
   },
   "source": [
    "### Switching to Streamlit to view the dashboard\n",
    "\n",
    "Now we have seen how to create basic objects for our dashbord, we will now put these objects into a **Streamlit App**.  Please navigate to **Projects > Streamlit > POPULATION_HEALTH_BY_URBAN_EXTENTS** to see this in action"
   ]
  }
 ],
 "metadata": {
  "kernelspec": {
   "display_name": "Streamlit Notebook",
   "name": "streamlit"
  },
  "lastEditStatus": {
   "authorEmail": "becky.oconnor@snowflake.com",
   "authorId": "6511322715509",
   "authorName": "USER",
   "lastEditTime": 1744200603393,
   "notebookId": "e3of3vxbrijk62gdqn2z",
   "sessionId": "7e8b5e9a-7f06-4500-94a9-26389c2b67bb"
  }
 },
 "nbformat": 4,
 "nbformat_minor": 5
}
